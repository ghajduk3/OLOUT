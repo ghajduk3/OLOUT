{
 "cells": [
  {
   "cell_type": "code",
   "execution_count": 6,
   "metadata": {},
   "outputs": [],
   "source": [
    "%matplotlib inline\n",
    "\n",
    "from math import atan2, pi\n",
    "from random import randint\n",
    "\n",
    "import matplotlib.pyplot as plt\n",
    "import numpy as np\n",
    "import pandas as pd\n",
    "from scipy.spatial.distance import pdist, squareform\n",
    "\n",
    "from neighborjoining.neighbor_joining import (run_neighbor_joining, make_rooted,\n",
    "                                              get_points_radial, get_points_circular, get_children)"
   ]
  },
  {
   "cell_type": "code",
   "execution_count": 14,
   "metadata": {},
   "outputs": [
    {
     "data": {
      "image/png": "[encoded data removed]",
      "text/plain": [
       "<Figure size 432x288 with 1 Axes>"
      ]
     },
     "metadata": {
      "needs_background": "light"
     },
     "output_type": "display_data"
    }
   ],
   "source": [
    "plt.plot((1,6),(2,4),'bo')\n",
    "plt.show()"
   ]
  },
  {
   "cell_type": "code",
   "execution_count": 19,
   "metadata": {},
   "outputs": [],
   "source": [
    "def plot(tree, points, labels=[], classes=None):\n",
    "    for v1 in tree:\n",
    "        for v2 in get_children(tree, v1):\n",
    "            plt.plot((points[v1][0], points[v2][0]), (points[v1][1], points[v2][1]), 'k')\n",
    "            if v2 < len(labels):\n",
    "                delta = points[v2] - points[v1]\n",
    "                angle = atan2(delta[1], delta[0])*180/pi\n",
    "                angle = (angle + 360) % 360\n",
    "                if angle > 90 and angle < 270:\n",
    "                    alignment = \"right\"\n",
    "                else:\n",
    "                    alignment = \"left\"\n",
    "                if angle < 90:\n",
    "                    pass\n",
    "                elif angle < 180:\n",
    "                    pass\n",
    "                elif angle < 270:\n",
    "                    pass\n",
    "                else:\n",
    "                    pass\n",
    "                if angle < 45:\n",
    "                    va = \"center\"\n",
    "                elif angle < 135:\n",
    "                    va = \"bottom\"\n",
    "                elif angle < 225:\n",
    "                    va = \"center\"\n",
    "                elif angle < 315:\n",
    "                    va = \"top\"\n",
    "                else:\n",
    "                    va = \"center\"\n",
    "\n",
    "                if angle > 90 and angle < 270:\n",
    "                    rotation = (angle + 180) % 360\n",
    "                else:\n",
    "                    rotation = angle\n",
    "                plt.text(*points[v2], labels[v2], rotation=rotation,\n",
    "                         va=va, clip_on=True, ha=alignment)\n",
    "\n",
    "    if classes != None:\n",
    "        for c in classes:\n",
    "            plt.plot([points[x][0] for x in c], [points[x][1] for x in c], \".\", ms=3)\n",
    "\n",
    "    # plt.savefig(\"output.svg\")\n",
    "    plt.show()"
   ]
  },
  {
   "cell_type": "code",
   "execution_count": 3,
   "metadata": {},
   "outputs": [
    {
     "data": {
      "text/plain": [
       "{1: [[5, 3.0]],\n",
       " 0: [[5, 2.0]],\n",
       " 5: [[1, 3.0], [0, 2.0], [6, 3.0]],\n",
       " 2: [[6, 4.0]],\n",
       " 6: [[5, 3.0], [2, 4.0], [7, 2.0]],\n",
       " 4: [[7, 1.0]],\n",
       " 3: [[7, 2.0]],\n",
       " 7: [[4, 1.0], [3, 2.0], [6, 2.0]]}"
      ]
     },
     "execution_count": 3,
     "metadata": {},
     "output_type": "execute_result"
    }
   ],
   "source": [
    "d = np.array([[0, 5, 9, 9, 8],\n",
    "              [5, 0, 10, 10, 9],\n",
    "              [9, 10, 0, 8, 7],\n",
    "              [9, 10, 8, 0, 3],\n",
    "              [8, 9, 7, 3, 0]])\n",
    "tree = run_neighbor_joining(d)\n",
    "tree"
   ]
  },
  {
   "cell_type": "code",
   "execution_count": 4,
   "metadata": {},
   "outputs": [
    {
     "data": {
      "text/plain": [
       "{1: [],\n",
       " 0: [[5, 2.0]],\n",
       " 5: [[1, 3.0], [6, 3.0]],\n",
       " 2: [],\n",
       " 6: [[2, 4.0], [7, 2.0]],\n",
       " 4: [],\n",
       " 3: [],\n",
       " 7: [[4, 1.0], [3, 2.0]]}"
      ]
     },
     "execution_count": 4,
     "metadata": {},
     "output_type": "execute_result"
    }
   ],
   "source": [
    "tree = make_rooted(tree)\n",
    "tree"
   ]
  },
  {
   "cell_type": "code",
   "execution_count": 17,
   "metadata": {},
   "outputs": [
    {
     "data": {
      "text/plain": [
       "{0: array([0, 0]),\n",
       " 5: array([-2.0000000e+00,  2.4492936e-16]),\n",
       " 1: array([0.12132034, 2.12132034]),\n",
       " 6: array([-4.12132034, -2.12132034]),\n",
       " 2: array([-6.94974747,  0.70710678]),\n",
       " 7: array([-4.12132034, -4.12132034]),\n",
       " 4: array([-4.82842712, -4.82842712]),\n",
       " 3: array([-2.70710678, -5.53553391])}"
      ]
     },
     "execution_count": 17,
     "metadata": {},
     "output_type": "execute_result"
    }
   ],
   "source": [
    "points = get_points_radial(tree)\n",
    "points\n"
   ]
  },
  {
   "cell_type": "code",
   "execution_count": 21,
   "metadata": {},
   "outputs": [],
   "source": [
    "points_1 = {1000:[0, 0], 1001: [1.2246468e-16, 2.0000000e+00], 1002: [0.5, 2.8660254],1:[3.96410162, 4.8660254 ], 0:[0.5, 3.8660254], 2:[-1.73205081,  3.], 1003:[-0.5, -0.8660254],4:[-2.23205081, -1.8660254 ], 3:[-0.5, -3.8660254], 5:[ 4.33012702, -2.5]}\n"
   ]
  },
  {
   "cell_type": "code",
   "execution_count": 22,
   "metadata": {},
   "outputs": [
    {
     "data": {
      "text/plain": [
       "{1000: [0, 0],\n",
       " 1001: [1.2246468e-16, 2.0],\n",
       " 1002: [0.5, 2.8660254],\n",
       " 1: [3.96410162, 4.8660254],\n",
       " 0: [0.5, 3.8660254],\n",
       " 2: [-1.73205081, 3.0],\n",
       " 1003: [-0.5, -0.8660254],\n",
       " 4: [-2.23205081, -1.8660254],\n",
       " 3: [-0.5, -3.8660254],\n",
       " 5: [4.33012702, -2.5]}"
      ]
     },
     "execution_count": 22,
     "metadata": {},
     "output_type": "execute_result"
    }
   ],
   "source": [
    "points_1"
   ]
  },
  {
   "cell_type": "code",
   "execution_count": 25,
   "metadata": {},
   "outputs": [
    {
     "data": {
      "image/png": "[encoded data removed]",
      "text/plain": [
       "<Figure size 432x288 with 1 Axes>"
      ]
     },
     "metadata": {
      "needs_background": "light"
     },
     "output_type": "display_data"
    }
   ],
   "source": [
    "plt.plot((0,1.2246468e-16),(0,2.0))\n",
    "plt.plot((0,0.5),(0,2.8660254))\n",
    "plt.plot((0,4.33),(0,-2.5))\n",
    "plt.show()"
   ]
  },
  {
   "cell_type": "code",
   "execution_count": 20,
   "metadata": {},
   "outputs": [
    {
     "data": {
      "image/png": "[encoded data removed]",
      "text/plain": [
       "<Figure size 432x288 with 1 Axes>"
      ]
     },
     "metadata": {
      "needs_background": "light"
     },
     "output_type": "display_data"
    }
   ],
   "source": [
    "plot(tree, points)"
   ]
  },
  {
   "cell_type": "code",
   "execution_count": null,
   "metadata": {},
   "outputs": [],
   "source": []
  },
  {
   "cell_type": "code",
   "execution_count": 15,
   "metadata": {},
   "outputs": [],
   "source": [
    "from ete3 import ClusterTree,TreeStyle"
   ]
  }
 ],
 "metadata": {
  "kernelspec": {
   "display_name": "Python 3",
   "language": "python",
   "name": "python3"
  },
  "language_info": {
   "codemirror_mode": {
    "name": "ipython",
    "version": 3
   },
   "file_extension": ".py",
   "mimetype": "text/x-python",
   "name": "python",
   "nbconvert_exporter": "python",
   "pygments_lexer": "ipython3",
   "version": "3.8.5"
  }
 },
 "nbformat": 4,
 "nbformat_minor": 4
}
