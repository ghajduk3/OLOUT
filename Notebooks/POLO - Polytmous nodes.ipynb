{
 "cells": [
  {
   "cell_type": "code",
   "execution_count": 1,
   "metadata": {},
   "outputs": [],
   "source": [
    "from scipy.cluster.hierarchy import leaves_list, is_valid_linkage"
   ]
  },
  {
   "cell_type": "code",
   "execution_count": 2,
   "metadata": {},
   "outputs": [],
   "source": [
    "from scipy.cluster import hierarchy\n",
    "import matplotlib.pyplot as plt\n",
    "from scipy.cluster.hierarchy import ClusterWarning\n",
    "from warnings import simplefilter\n",
    "simplefilter(\"ignore\", ClusterWarning)"
   ]
  },
  {
   "cell_type": "code",
   "execution_count": 3,
   "metadata": {},
   "outputs": [],
   "source": [
    "import re\n",
    "import numpy as np\n",
    "def newick_parser(newick_tree:str):\n",
    "    linkage_matrix = []\n",
    "    pattern = re.compile(r'\\s+')\n",
    "    newick_tree = re.sub(pattern, '', newick_tree)\n",
    "    tokens = re.split(r\"\\s*(;|\\(|\\)|\\[|\\]|,|:|=)\\s*\",newick_tree)\n",
    "    tokens = [token for token in tokens if token != '' and token != ';']\n",
    "    count = 1\n",
    "    for ind,token in enumerate(tokens):\n",
    "        if token == \"(\" :\n",
    "            linkage_matrix.append([])\n",
    "        elif token ==',' and tokens[ind+1] == '(':\n",
    "            continue\n",
    "        elif token == ')':\n",
    "            continue\n",
    "        elif token == ':':\n",
    "            continue\n",
    "        else:\n",
    "            x = tokens[ind-1]\n",
    "            \n",
    "            if x in (\"(\",\",\"):\n",
    "                token = float(token)\n",
    "                last_link = linkage_matrix[len(linkage_matrix)-1]                \n",
    "                linkage_matrix.insert(0,[token]) if len(last_link) >=2  else linkage_matrix[len(linkage_matrix)-1].append(token)\n",
    "            elif x == ')':\n",
    "                token = float(token)\n",
    "                count+=1\n",
    "                last_link = linkage_matrix[len(linkage_matrix)-count]\n",
    "                linkage_matrix.append([token]) if len(last_link) >=2 else linkage_matrix[len(linkage_matrix)-count].append(token)                \n",
    "    return np.flip(np.array(linkage_matrix))\n",
    "            \n",
    "            "
   ]
  },
  {
   "cell_type": "code",
   "execution_count": 4,
   "metadata": {},
   "outputs": [],
   "source": [
    "def produce_linkage_matrix(newick_tree,distance_matrix):\n",
    "    partial_linkage_matrix = newick_parser(newick_tree)\n",
    "    dist_obs = np.array([[50 * (i),i+1] for i in range(len(partial_linkage_matrix))])\n",
    "    return np.hstack((partial_linkage_matrix,dist_obs)).astype(float)\n",
    "    "
   ]
  },
  {
   "cell_type": "code",
   "execution_count": 5,
   "metadata": {},
   "outputs": [],
   "source": [
    "distances_1 = np.array([[0, 5, 9, 9, 8],\n",
    "                      [5, 0, 10, 10, 9],\n",
    "                      [9, 10, 0, 8, 7],\n",
    "                      [9, 10, 8, 0, 3],\n",
    "                      [8, 9, 7, 3, 0]])\n",
    "indexes = list('abcde')"
   ]
  },
  {
   "cell_type": "code",
   "execution_count": 6,
   "metadata": {},
   "outputs": [],
   "source": [
    "newick_string_tree_1 = '(3:2.000000, (2:4.000000, (1:3.000000, 0:2.000000)5:3.000000)6:2.000000, 4:1.000000)7'\n",
    "newick_parser(newick_string_tree_1)\n",
    "link_matrix_1 = produce_linkage_matrix(newick_string_tree_1,distances_1)"
   ]
  },
  {
   "cell_type": "code",
   "execution_count": 7,
   "metadata": {},
   "outputs": [
    {
     "data": {
      "text/plain": [
       "array([[  0.,   1.,   0.,   1.],\n",
       "       [  5.,   2.,  50.,   2.],\n",
       "       [  6.,   3., 100.,   3.],\n",
       "       [  7.,   4., 150.,   4.]])"
      ]
     },
     "execution_count": 7,
     "metadata": {},
     "output_type": "execute_result"
    }
   ],
   "source": [
    "# Linkage matrix, ready to be used in POLO\n",
    "link_matrix_1"
   ]
  },
  {
   "cell_type": "code",
   "execution_count": 8,
   "metadata": {},
   "outputs": [
    {
     "data": {
      "text/plain": [
       "array([0, 1, 2, 3, 4], dtype=int32)"
      ]
     },
     "execution_count": 8,
     "metadata": {},
     "output_type": "execute_result"
    }
   ],
   "source": [
    "# Prints the unordered leaves list of the phylogenetic tree\n",
    "hierarchy.leaves_list(link_matrix_1)"
   ]
  },
  {
   "cell_type": "code",
   "execution_count": 9,
   "metadata": {},
   "outputs": [
    {
     "data": {
      "text/plain": [
       "{'icoord': [[5.0, 5.0, 15.0, 15.0],\n",
       "  [10.0, 10.0, 25.0, 25.0],\n",
       "  [17.5, 17.5, 35.0, 35.0],\n",
       "  [26.25, 26.25, 45.0, 45.0]],\n",
       " 'dcoord': [[0.0, 0.0, 0.0, 0.0],\n",
       "  [0.0, 50.0, 50.0, 0.0],\n",
       "  [50.0, 100.0, 100.0, 0.0],\n",
       "  [100.0, 150.0, 150.0, 0.0]],\n",
       " 'ivl': ['0', '1', '2', '3', '4'],\n",
       " 'leaves': [0, 1, 2, 3, 4],\n",
       " 'color_list': ['C1', 'C1', 'C1', 'C0']}"
      ]
     },
     "execution_count": 9,
     "metadata": {},
     "output_type": "execute_result"
    },
    {
     "data": {
      "image/png": "[encoded data removed]",
      "text/plain": [
       "<Figure size 432x288 with 1 Axes>"
      ]
     },
     "metadata": {
      "needs_background": "light"
     },
     "output_type": "display_data"
    }
   ],
   "source": [
    "# Plots the dendogram based on the unordered leaves list\n",
    "hierarchy.dendrogram(link_matrix_1)"
   ]
  },
  {
   "cell_type": "markdown",
   "metadata": {},
   "source": [
    "### POLO -- Implementation\n",
    "#### TODO :\n",
    "1. Understand polo implementation and expand it for polytomous nodes"
   ]
  },
  {
   "cell_type": "code",
   "execution_count": null,
   "metadata": {},
   "outputs": [],
   "source": [
    "# import re\n",
    "# import numpy as np\n",
    "# def newick_parser_1(newick_tree:str,distances):\n",
    "#     leaves = [i for i in range(len(distances))]\n",
    "#     linkage_matrix = []\n",
    "#     pattern = re.compile(r'\\s+')\n",
    "#     newick_tree = re.sub(pattern, '', newick_tree)\n",
    "#     tokens = re.split(r\"\\s*(;|\\(|\\)|\\[|\\]|,|:|=)\\s*\",newick_tree)\n",
    "#     tokens = [token for token in tokens if token != '']\n",
    "# #     print(tokens)\n",
    "#     count = 1\n",
    "#     fake_c = 1\n",
    "#     for ind,token in enumerate(tokens):\n",
    "#         if token == \"(\" :\n",
    "#             linkage_matrix.append([])\n",
    "#         elif token ==',' and tokens[ind+1] == '(':\n",
    "#             continue\n",
    "#         elif token ==',' and tokens[ind-3] == ')':\n",
    "#             linkage_matrix.insert(0,[])\n",
    "#         elif tokens[ind-1] == ',' and tokens[ind-4] ==')':\n",
    "#             fake_c+=1\n",
    "# #             print(linkage_matrix)\n",
    "#             linkage_matrix[len(linkage_matrix)-fake_c].append(float(token))\n",
    "#             fake_c-=1\n",
    "\n",
    "#         elif token == ')':\n",
    "#             fake_c+=1\n",
    "#             new_leaf = len(leaves)\n",
    "#             if len(linkage_matrix[len(linkage_matrix)-fake_c]) >=2:\n",
    "#                 linkage_matrix.insert(0,[new_leaf])\n",
    "#             else:    \n",
    "#                 linkage_matrix[len(linkage_matrix)-fake_c].append(float(new_leaf))\n",
    "#             leaves.append(new_leaf)\n",
    "#         elif token == ':':\n",
    "#             continue\n",
    "#         else:\n",
    "#             x = tokens[ind-1]\n",
    "            \n",
    "#             if x in (\"(\",\",\"):\n",
    "#                 token = float(token)\n",
    "#                 linkage_matrix[len(linkage_matrix)-1].append(token)\n",
    "#     return np.array(linkage_matrix)\n",
    "            \n",
    "            "
   ]
  },
  {
   "cell_type": "code",
   "execution_count": 124,
   "metadata": {},
   "outputs": [],
   "source": [
    "import re\n",
    "import numpy as np\n",
    "def swapPositions(link, pos1, pos2): \n",
    "      \n",
    "    link[pos1], link[pos2] = link[pos2], link[pos1] \n",
    "    return link\n",
    "\n",
    "def newick_parser_1(newick_tree:str,distances):\n",
    "    leaves = [i for i in range(len(distances))]\n",
    "    linkage_matrix = []\n",
    "    pattern = re.compile(r'\\s+')\n",
    "    newick_tree = re.sub(pattern, '', newick_tree)\n",
    "    tokens = re.split(r\"\\s*(;|\\(|\\)|\\[|\\]|,|:|=)\\s*\",newick_tree)\n",
    "    tokens = [token for token in tokens if token != '']\n",
    "#     print(tokens)\n",
    "    count = 1\n",
    "    fake_c = 1\n",
    "    for ind,token in enumerate(tokens):\n",
    "        if token == \"(\" :\n",
    "            linkage_matrix.append([])\n",
    "        elif token ==',' and tokens[ind+1] == '(':\n",
    "            continue\n",
    "        elif token ==',' and tokens[ind-3] == ')':\n",
    "            linkage_matrix.insert(0,[])\n",
    "        elif tokens[ind-1] == ',' and tokens[ind-4] ==')':\n",
    "            fake_c+=1\n",
    "            linkage_matrix[len(linkage_matrix)-fake_c].append(float(token))\n",
    "            fake_c-=1\n",
    "\n",
    "        elif token == ')':\n",
    "            fake_c+=1\n",
    "            new_leaf = len(leaves)\n",
    "            if len(linkage_matrix[len(linkage_matrix)-fake_c]) >=2:\n",
    "                linkage_matrix.insert(0,[new_leaf])\n",
    "            else:\n",
    "                linkage_matrix[len(linkage_matrix)-fake_c].append(float(new_leaf))\n",
    "                \n",
    "            if len(linkage_matrix[len(linkage_matrix)-fake_c]) >=2:    \n",
    "                linkage_matrix.append(linkage_matrix.pop(len(linkage_matrix)-fake_c))\n",
    "    \n",
    "            leaves.append(new_leaf)\n",
    "        elif token == ':':\n",
    "            continue\n",
    "        else:\n",
    "            x = tokens[ind-1]\n",
    "            \n",
    "            if x in (\"(\",\",\"):\n",
    "                token = float(token)\n",
    "                linkage_matrix[len(linkage_matrix)-1].append(token)\n",
    "    return np.array(linkage_matrix)\n",
    "            \n",
    "            "
   ]
  },
  {
   "cell_type": "code",
   "execution_count": 110,
   "metadata": {},
   "outputs": [],
   "source": [
    "def produce_linkage_matrix(newick_tree,distance_matrix):\n",
    "    partial_linkage_matrix = newick_parser_1(newick_tree,distance_matrix)\n",
    "    dist_obs = np.array([[50 * (i+1),i+1] for i in range(len(partial_linkage_matrix))])\n",
    "    return np.hstack((partial_linkage_matrix,dist_obs)).astype(float)\n",
    "    "
   ]
  },
  {
   "cell_type": "code",
   "execution_count": 17,
   "metadata": {},
   "outputs": [],
   "source": [
    "newick_string_tree_2 = '(3:2.000000, 4:1.000000, (2:4.000000, (1:3.000000, 0:2.000000):3.000000):2.000000);'"
   ]
  },
  {
   "cell_type": "code",
   "execution_count": 125,
   "metadata": {},
   "outputs": [
    {
     "data": {
      "text/plain": [
       "array([[1., 0.],\n",
       "       [2., 5.],\n",
       "       [3., 4.],\n",
       "       [6., 7.]])"
      ]
     },
     "execution_count": 125,
     "metadata": {},
     "output_type": "execute_result"
    }
   ],
   "source": [
    "newick_parser_1(newick_string_tree_2,distances_1)"
   ]
  },
  {
   "cell_type": "code",
   "execution_count": 126,
   "metadata": {},
   "outputs": [],
   "source": [
    "newick_string_tree_3 = '((2:2.000000,(1:4.000000, 0:1.000000):1.000000):1.000000, (4:2.000000, 3:3.000000):1.000000,5:5.00000);'"
   ]
  },
  {
   "cell_type": "code",
   "execution_count": 106,
   "metadata": {},
   "outputs": [],
   "source": [
    "distances_3 = np.array([[0, 5, 4, 7, 6, 8],\n",
    "                       [5, 0, 7,10, 9,11],\n",
    "                        [4, 7, 0, 7, 6, 8],\n",
    "                       [7,10, 7, 0, 5, 9],\n",
    "                       [6, 9, 6, 5, 0, 8 ],\n",
    "                       [8,11, 8, 9, 8, 0]])"
   ]
  },
  {
   "cell_type": "code",
   "execution_count": 127,
   "metadata": {},
   "outputs": [
    {
     "data": {
      "text/plain": [
       "array([[1., 0.],\n",
       "       [2., 6.],\n",
       "       [4., 3.],\n",
       "       [7., 8.],\n",
       "       [5., 9.]])"
      ]
     },
     "execution_count": 127,
     "metadata": {},
     "output_type": "execute_result"
    }
   ],
   "source": [
    "N = newick_parser_1(newick_string_tree_3,distances_3)\n",
    "Z = produce_linkage_matrix(newick_string_tree_3,distances_3)\n",
    "N\n"
   ]
  },
  {
   "cell_type": "code",
   "execution_count": 115,
   "metadata": {},
   "outputs": [
    {
     "data": {
      "text/plain": [
       "array([1, 0, 2, 4, 3, 5], dtype=int32)"
      ]
     },
     "execution_count": 115,
     "metadata": {},
     "output_type": "execute_result"
    },
    {
     "data": {
      "image/png": "[encoded data removed]",
      "text/plain": [
       "<Figure size 432x288 with 1 Axes>"
      ]
     },
     "metadata": {
      "needs_background": "light"
     },
     "output_type": "display_data"
    }
   ],
   "source": [
    "G = np.array([[0.0,1.0,50.0,2.0],[3.0,4.0,40.0,1.0],[6.0,2.0,100.0,3.0],[8.0,7.0,150.0,4.0],[9.0,5.0,150.0,5.0]])\n",
    "hierarchy.dendrogram(G)\n",
    "hierarchy.leaves_list(hierarchy.optimal_leaf_ordering(G,distances_3))"
   ]
  },
  {
   "cell_type": "code",
   "execution_count": 112,
   "metadata": {},
   "outputs": [
    {
     "data": {
      "text/plain": [
       "{'icoord': [[25.0, 25.0, 35.0, 35.0],\n",
       "  [15.0, 15.0, 30.0, 30.0],\n",
       "  [45.0, 45.0, 55.0, 55.0],\n",
       "  [22.5, 22.5, 50.0, 50.0],\n",
       "  [5.0, 5.0, 36.25, 36.25]],\n",
       " 'dcoord': [[0.0, 50.0, 50.0, 0.0],\n",
       "  [0.0, 100.0, 100.0, 50.0],\n",
       "  [0.0, 150.0, 150.0, 0.0],\n",
       "  [100.0, 200.0, 200.0, 150.0],\n",
       "  [0.0, 250.0, 250.0, 200.0]],\n",
       " 'ivl': ['5', '2', '1', '0', '4', '3'],\n",
       " 'leaves': [5, 2, 1, 0, 4, 3],\n",
       " 'color_list': ['C1', 'C1', 'C2', 'C0', 'C0']}"
      ]
     },
     "execution_count": 112,
     "metadata": {},
     "output_type": "execute_result"
    },
    {
     "data": {
      "image/png": "[encoded data removed]",
      "text/plain": [
       "<Figure size 432x288 with 1 Axes>"
      ]
     },
     "metadata": {
      "needs_background": "light"
     },
     "output_type": "display_data"
    }
   ],
   "source": [
    "hierarchy.dendrogram(Z)"
   ]
  },
  {
   "cell_type": "code",
   "execution_count": 113,
   "metadata": {},
   "outputs": [
    {
     "data": {
      "text/plain": [
       "array([5, 3, 4, 2, 0, 1], dtype=int32)"
      ]
     },
     "execution_count": 113,
     "metadata": {},
     "output_type": "execute_result"
    }
   ],
   "source": [
    "hierarchy.leaves_list(hierarchy.optimal_leaf_ordering(Z,distances_3))"
   ]
  },
  {
   "cell_type": "markdown",
   "metadata": {},
   "source": [
    "### TO-DO  11.02.2021\n",
    "1. Sort linkage matrix with respect to current leaf ordering and divide it into two subtrees\n"
   ]
  },
  {
   "cell_type": "code",
   "execution_count": 116,
   "metadata": {},
   "outputs": [
    {
     "data": {
      "text/plain": [
       "array([[  1.,   0.,  50.,   1.],\n",
       "       [  2.,   6., 100.,   2.],\n",
       "       [  4.,   3., 150.,   3.],\n",
       "       [  7.,   8., 200.,   4.],\n",
       "       [  5.,   9., 250.,   5.]])"
      ]
     },
     "execution_count": 116,
     "metadata": {},
     "output_type": "execute_result"
    }
   ],
   "source": [
    "Z"
   ]
  },
  {
   "cell_type": "code",
   "execution_count": 128,
   "metadata": {},
   "outputs": [],
   "source": [
    "n_points = Z.shape[0] + 1\n",
    "n_clusters = 2*n_points - 1"
   ]
  },
  {
   "cell_type": "code",
   "execution_count": 133,
   "metadata": {},
   "outputs": [
    {
     "data": {
      "text/plain": [
       "array([5, 2, 1, 0, 4, 3], dtype=int32)"
      ]
     },
     "execution_count": 133,
     "metadata": {},
     "output_type": "execute_result"
    }
   ],
   "source": [
    "# Current leaves linear ordering\n",
    "sorted_leaves = hierarchy.leaves_list(Z)"
   ]
  },
  {
   "cell_type": "code",
   "execution_count": 134,
   "metadata": {},
   "outputs": [],
   "source": [
    " # Create map from original order to sorted order.\n",
    "original_order_to_sorted_order = dict((orig_i, sorted_i) for sorted_i,orig_i\n",
    "                                          in enumerate(sorted_leaves))"
   ]
  },
  {
   "cell_type": "code",
   "execution_count": 135,
   "metadata": {},
   "outputs": [
    {
     "data": {
      "text/plain": [
       "{5: 0, 2: 1, 1: 2, 0: 3, 4: 4, 3: 5}"
      ]
     },
     "execution_count": 135,
     "metadata": {},
     "output_type": "execute_result"
    }
   ],
   "source": [
    "original_order_to_sorted_order"
   ]
  },
  {
   "cell_type": "code",
   "execution_count": 142,
   "metadata": {},
   "outputs": [],
   "source": [
    "sorted_Z = []\n",
    "sorted_D = distances_3\n",
    "for (v_l, v_r, _, v_size) in Z:\n",
    "    if v_l < n_points:\n",
    "        v_l = original_order_to_sorted_order[int(v_l)]\n",
    "    if v_r < n_points:\n",
    "        v_r = original_order_to_sorted_order[int(v_r)]\n",
    "\n",
    "    sorted_Z.append([v_l, v_r, v_size])\n",
    "sorted_Z = np.array(sorted_Z).astype(np.int32).copy(order='C')"
   ]
  },
  {
   "cell_type": "code",
   "execution_count": 140,
   "metadata": {},
   "outputs": [
    {
     "data": {
      "text/plain": [
       "array([[ 0, 10,  7,  9,  5,  7],\n",
       "       [10,  0,  7, 11,  9,  5],\n",
       "       [ 7,  7,  0,  8,  6,  4],\n",
       "       [ 9, 11,  8,  0,  8,  8],\n",
       "       [ 5,  9,  6,  8,  0,  6],\n",
       "       [ 7,  5,  4,  8,  6,  0]])"
      ]
     },
     "execution_count": 140,
     "metadata": {},
     "output_type": "execute_result"
    }
   ],
   "source": [
    "sorted_D = sorted_D[sorted_leaves, :]\n",
    "sorted_D = sorted_D[:, sorted_leaves].copy(order='C')\n",
    "sorted_D"
   ]
  },
  {
   "cell_type": "code",
   "execution_count": 144,
   "metadata": {},
   "outputs": [
    {
     "data": {
      "text/plain": [
       "array([[2, 3, 1],\n",
       "       [1, 6, 2],\n",
       "       [4, 5, 3],\n",
       "       [7, 8, 4],\n",
       "       [0, 9, 5]], dtype=int32)"
      ]
     },
     "execution_count": 144,
     "metadata": {},
     "output_type": "execute_result"
    }
   ],
   "source": [
    "sorted_Z"
   ]
  },
  {
   "cell_type": "code",
   "execution_count": 143,
   "metadata": {},
   "outputs": [
    {
     "name": "stdout",
     "output_type": "stream",
     "text": [
      "0 2 3\n",
      "1 1 6\n",
      "2 4 5\n",
      "3 7 8\n",
      "4 0 9\n"
     ]
    }
   ],
   "source": [
    " for i in range(len(sorted_Z)):\n",
    "    v_l = sorted_Z[i,0]\n",
    "    v_r = sorted_Z[i,1]\n",
    "    print(i,v_l,v_r)"
   ]
  },
  {
   "cell_type": "code",
   "execution_count": 151,
   "metadata": {},
   "outputs": [
    {
     "name": "stdout",
     "output_type": "stream",
     "text": [
      "0 2 3\n",
      "1 1 6\n",
      "2 4 5\n",
      "3 7 8\n",
      "4 0 9\n"
     ]
    }
   ],
   "source": [
    "cluster_ranges = np.zeros((n_clusters, 2))\n",
    "cluster_ranges[np.arange(n_points), 0] = np.arange(n_points)\n",
    "cluster_ranges[np.arange(n_points), 1] = np.arange(n_points) + 1\n",
    "for link_i, (v_l, v_r, v_size) in enumerate(sorted_Z):\n",
    "    print(link_i,v_l,v_r)\n",
    "    v = link_i + n_points\n",
    "    cluster_ranges[v, 0] = cluster_ranges[v_l, 0]\n",
    "    cluster_ranges[v, 1] = cluster_ranges[v_r, 1]\n",
    "cluster_ranges = cluster_ranges.astype(np.int32).copy(order='C')"
   ]
  },
  {
   "cell_type": "code",
   "execution_count": 147,
   "metadata": {},
   "outputs": [
    {
     "data": {
      "text/plain": [
       "array([[0, 1],\n",
       "       [1, 2],\n",
       "       [2, 3],\n",
       "       [3, 4],\n",
       "       [4, 5],\n",
       "       [5, 6],\n",
       "       [2, 4],\n",
       "       [1, 4],\n",
       "       [4, 6],\n",
       "       [1, 6],\n",
       "       [0, 6]], dtype=int32)"
      ]
     },
     "execution_count": 147,
     "metadata": {},
     "output_type": "execute_result"
    }
   ],
   "source": [
    "cluster_ranges"
   ]
  },
  {
   "cell_type": "markdown",
   "metadata": {},
   "source": [
    "### TODO\n",
    "1. Visualize tree based on linkage matrix"
   ]
  }
 ],
 "metadata": {
  "kernelspec": {
   "display_name": "Python 3",
   "language": "python",
   "name": "python3"
  },
  "language_info": {
   "codemirror_mode": {
    "name": "ipython",
    "version": 3
   },
   "file_extension": ".py",
   "mimetype": "text/x-python",
   "name": "python",
   "nbconvert_exporter": "python",
   "pygments_lexer": "ipython3",
   "version": "3.8.5"
  }
 },
 "nbformat": 4,
 "nbformat_minor": 4
}
