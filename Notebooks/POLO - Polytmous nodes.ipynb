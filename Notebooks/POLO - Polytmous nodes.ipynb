{
 "cells": [
  {
   "cell_type": "code",
   "execution_count": 1,
   "metadata": {},
   "outputs": [],
   "source": [
    "from scipy.cluster.hierarchy import leaves_list, is_valid_linkage"
   ]
  },
  {
   "cell_type": "code",
   "execution_count": 4,
   "metadata": {},
   "outputs": [],
   "source": [
    "from scipy.cluster import hierarchy\n",
    "import matplotlib.pyplot as plt\n",
    "from scipy.cluster.hierarchy import ClusterWarning\n",
    "from warnings import simplefilter\n",
    "simplefilter(\"ignore\", ClusterWarning)"
   ]
  },
  {
   "cell_type": "code",
   "execution_count": 2,
   "metadata": {},
   "outputs": [],
   "source": [
    "import re\n",
    "import numpy as np\n",
    "def newick_parser(newick_tree:str):\n",
    "    linkage_matrix = []\n",
    "    pattern = re.compile(r'\\s+')\n",
    "    newick_tree = re.sub(pattern, '', newick_tree)\n",
    "    tokens = re.split(r\"\\s*(;|\\(|\\)|\\[|\\]|,|:|=)\\s*\",newick_tree)\n",
    "    tokens = [token for token in tokens if token != '' and token != ';']\n",
    "    count = 1\n",
    "    for ind,token in enumerate(tokens):\n",
    "        if token == \"(\" :\n",
    "            linkage_matrix.append([])\n",
    "        elif token ==',' and tokens[ind+1] == '(':\n",
    "            continue\n",
    "        elif token == ')':\n",
    "            continue\n",
    "        elif token == ':':\n",
    "            continue\n",
    "        else:\n",
    "            x = tokens[ind-1]\n",
    "            \n",
    "            if x in (\"(\",\",\"):\n",
    "                token = float(token)\n",
    "                last_link = linkage_matrix[len(linkage_matrix)-1]                \n",
    "                linkage_matrix.insert(0,[token]) if len(last_link) >=2  else linkage_matrix[len(linkage_matrix)-1].append(token)\n",
    "            elif x == ')':\n",
    "                token = float(token)\n",
    "                count+=1\n",
    "                last_link = linkage_matrix[len(linkage_matrix)-count]\n",
    "                linkage_matrix.append([token]) if len(last_link) >=2 else linkage_matrix[len(linkage_matrix)-count].append(token)                \n",
    "    return np.flip(np.array(linkage_matrix))\n",
    "            \n",
    "            "
   ]
  },
  {
   "cell_type": "code",
   "execution_count": 3,
   "metadata": {},
   "outputs": [],
   "source": [
    "def produce_linkage_matrix(newick_tree,distance_matrix):\n",
    "    partial_linkage_matrix = newick_parser(newick_tree)\n",
    "    dist_obs = np.array([[50 * (i),i+1] for i in range(len(partial_linkage_matrix))])\n",
    "    return np.hstack((partial_linkage_matrix,dist_obs)).astype(float)\n",
    "    "
   ]
  },
  {
   "cell_type": "code",
   "execution_count": 16,
   "metadata": {},
   "outputs": [],
   "source": [
    "distances_1 = np.array([[0, 5, 9, 9, 8],\n",
    "                      [5, 0, 10, 10, 9],\n",
    "                      [9, 10, 0, 8, 7],\n",
    "                      [9, 10, 8, 0, 3],\n",
    "                      [8, 9, 7, 3, 0]])\n",
    "indexes = list('abcde')"
   ]
  },
  {
   "cell_type": "code",
   "execution_count": 17,
   "metadata": {},
   "outputs": [],
   "source": [
    "newick_string_tree_1 = '(3:2.000000, (2:4.000000, (1:3.000000, 0:2.000000)5:3.000000)6:2.000000, 4:1.000000)7'\n",
    "newick_parser(newick_string_tree_1)\n",
    "link_matrix_1 = produce_linkage_matrix(newick_string_tree_1,distances_1)"
   ]
  },
  {
   "cell_type": "code",
   "execution_count": 18,
   "metadata": {},
   "outputs": [
    {
     "data": {
      "text/plain": [
       "array([[  0.,   1.,   0.,   1.],\n",
       "       [  5.,   2.,  50.,   2.],\n",
       "       [  6.,   3., 100.,   3.],\n",
       "       [  7.,   4., 150.,   4.]])"
      ]
     },
     "execution_count": 18,
     "metadata": {},
     "output_type": "execute_result"
    }
   ],
   "source": [
    "# Linkage matrix, ready to be used in POLO\n",
    "link_matrix_1"
   ]
  },
  {
   "cell_type": "code",
   "execution_count": 19,
   "metadata": {},
   "outputs": [
    {
     "data": {
      "text/plain": [
       "array([0, 1, 2, 3, 4], dtype=int32)"
      ]
     },
     "execution_count": 19,
     "metadata": {},
     "output_type": "execute_result"
    }
   ],
   "source": [
    "# Prints the unordered leaves list of the phylogenetic tree\n",
    "hierarchy.leaves_list(link_matrix_1)"
   ]
  },
  {
   "cell_type": "code",
   "execution_count": 20,
   "metadata": {},
   "outputs": [
    {
     "data": {
      "text/plain": [
       "{'icoord': [[5.0, 5.0, 15.0, 15.0],\n",
       "  [10.0, 10.0, 25.0, 25.0],\n",
       "  [17.5, 17.5, 35.0, 35.0],\n",
       "  [26.25, 26.25, 45.0, 45.0]],\n",
       " 'dcoord': [[0.0, 0.0, 0.0, 0.0],\n",
       "  [0.0, 50.0, 50.0, 0.0],\n",
       "  [50.0, 100.0, 100.0, 0.0],\n",
       "  [100.0, 150.0, 150.0, 0.0]],\n",
       " 'ivl': ['0', '1', '2', '3', '4'],\n",
       " 'leaves': [0, 1, 2, 3, 4],\n",
       " 'color_list': ['C1', 'C1', 'C1', 'C0']}"
      ]
     },
     "execution_count": 20,
     "metadata": {},
     "output_type": "execute_result"
    },
    {
     "data": {
      "image/png": "[encoded data removed]",
      "text/plain": [
       "<Figure size 432x288 with 1 Axes>"
      ]
     },
     "metadata": {
      "needs_background": "light"
     },
     "output_type": "display_data"
    }
   ],
   "source": [
    "# Plots the dendogram based on the unordered leaves list\n",
    "hierarchy.dendrogram(link_matrix_1)"
   ]
  },
  {
   "cell_type": "markdown",
   "metadata": {},
   "source": [
    "### POLO -- Implementation\n",
    "#### TODO :\n",
    "1. Understand polo implementation and expand it for polytomous nodes"
   ]
  },
  {
   "cell_type": "code",
   "execution_count": 137,
   "metadata": {},
   "outputs": [],
   "source": [
    "import re\n",
    "import numpy as np\n",
    "def newick_parser_1(newick_tree:str,distances):\n",
    "    leaves = [i for i in range(len(distances))]\n",
    "    linkage_matrix = []\n",
    "    pattern = re.compile(r'\\s+')\n",
    "    newick_tree = re.sub(pattern, '', newick_tree)\n",
    "    tokens = re.split(r\"\\s*(;|\\(|\\)|\\[|\\]|,|:|=)\\s*\",newick_tree)\n",
    "    tokens = [token for token in tokens if token != '']\n",
    "    print(tokens)\n",
    "    count = 1\n",
    "    fake_c = 1\n",
    "    for ind,token in enumerate(tokens):\n",
    "        if token == \"(\" :\n",
    "            linkage_matrix.append([])\n",
    "        elif token ==',' and tokens[ind+1] == '(':\n",
    "            continue\n",
    "        elif token ==',' and tokens[ind-3] == ')':\n",
    "            linkage_matrix.insert(0,[])\n",
    "#         elif token == ')' and tokens[ind+1] == ';':\n",
    "#             break\n",
    "        elif tokens[ind-1] == ',' and tokens[ind-4] ==')':\n",
    "            fake_c+=1\n",
    "#             new_leaf = len(leaves)\n",
    "            print(linkage_matrix)\n",
    "            linkage_matrix[len(linkage_matrix)-fake_c].append(float(token))\n",
    "            fake_c-=1\n",
    "\n",
    "        elif token == ')':\n",
    "            fake_c+=1\n",
    "            new_leaf = len(leaves)\n",
    "            if len(linkage_matrix[len(linkage_matrix)-fake_c]) >=2:\n",
    "                linkage_matrix.insert(0,[new_leaf])\n",
    "            else:    \n",
    "                linkage_matrix[len(linkage_matrix)-fake_c].append(float(new_leaf))\n",
    "            print(new_leaf,ind,leaves)\n",
    "            leaves.append(new_leaf)\n",
    "            print(fake_c)\n",
    "        elif token == ':':\n",
    "            continue\n",
    "        else:\n",
    "            x = tokens[ind-1]\n",
    "            \n",
    "            if x in (\"(\",\",\"):\n",
    "                token = float(token)\n",
    "                linkage_matrix[len(linkage_matrix)-1].append(token)\n",
    "                \n",
    "#           \n",
    "#                 last_link = linkage_matrix[len(linkage_matrix)-1]                \n",
    "# #                 linkage_matrix.insert(0,[token]) if len(last_link) >=2  else linkage_matrix[len(linkage_matrix)-1].append(token)\n",
    "#             elif x == ')':\n",
    "#                 token = float(token)\n",
    "#                 count+=1\n",
    "#                 last_link = linkage_matrix[len(linkage_matrix)-count]\n",
    "#                 linkage_matrix.append([token]) if len(last_link) >=2 else linkage_matrix[len(linkage_matrix)-count].append(token)                \n",
    "#     return np.flip(np.array(linkage_matrix))\n",
    "    return np.array(linkage_matrix)\n",
    "            \n",
    "            "
   ]
  },
  {
   "cell_type": "code",
   "execution_count": 134,
   "metadata": {},
   "outputs": [],
   "source": [
    "newick_string_tree_2 = '(3:2.000000, 4:1.000000, (2:4.000000, (1:3.000000, 0:2.000000):3.000000):2.000000);'"
   ]
  },
  {
   "cell_type": "code",
   "execution_count": 138,
   "metadata": {},
   "outputs": [
    {
     "name": "stdout",
     "output_type": "stream",
     "text": [
      "['(', '3', ':', '2.000000', ',', '4', ':', '1.000000', ',', '(', '2', ':', '4.000000', ',', '(', '1', ':', '3.000000', ',', '0', ':', '2.000000', ')', ':', '3.000000', ')', ':', '2.000000', ')', ';']\n",
      "5 22 [0, 1, 2, 3, 4]\n",
      "2\n",
      "6 25 [0, 1, 2, 3, 4, 5]\n",
      "3\n",
      "7 28 [0, 1, 2, 3, 4, 5, 6]\n",
      "4\n"
     ]
    },
    {
     "data": {
      "text/plain": [
       "array([[6., 7.],\n",
       "       [3., 4.],\n",
       "       [2., 5.],\n",
       "       [1., 0.]])"
      ]
     },
     "execution_count": 138,
     "metadata": {},
     "output_type": "execute_result"
    }
   ],
   "source": [
    "newick_parser_1(newick_string_tree_2,distances_1)"
   ]
  },
  {
   "cell_type": "code",
   "execution_count": 143,
   "metadata": {},
   "outputs": [],
   "source": [
    "newick_string_tree_3 = '(5:5.00000,(2:2.000000,(1:4.000000, 0:1.000000):1.000000):1.000000, (4:2.000000, 3:3.000000):1.000000);'"
   ]
  },
  {
   "cell_type": "code",
   "execution_count": 120,
   "metadata": {},
   "outputs": [],
   "source": [
    "distances_3 = np.array([[0, 5, 4, 7, 6, 8],\n",
    "                       [5, 0, 7,10, 9,11],\n",
    "                        [4, 7, 0, 7, 6, 8],\n",
    "                       [7,10, 7, 0, 5, 9],\n",
    "                       [6, 9, 6, 5, 0, 8 ],\n",
    "                       [8,11, 8, 9, 8, 0]])"
   ]
  },
  {
   "cell_type": "code",
   "execution_count": 144,
   "metadata": {},
   "outputs": [
    {
     "name": "stdout",
     "output_type": "stream",
     "text": [
      "['(', '5', ':', '5.00000', ',', '(', '2', ':', '2.000000', ',', '(', '1', ':', '4.000000', ',', '0', ':', '1.000000', ')', ':', '1.000000', ')', ':', '1.000000', ',', '(', '4', ':', '2.000000', ',', '3', ':', '3.000000', ')', ':', '1.000000', ')', ';']\n",
      "6 18 [0, 1, 2, 3, 4, 5]\n",
      "2\n",
      "7 21 [0, 1, 2, 3, 4, 5, 6]\n",
      "3\n",
      "8 33 [0, 1, 2, 3, 4, 5, 6, 7]\n",
      "4\n",
      "9 36 [0, 1, 2, 3, 4, 5, 6, 7, 8]\n",
      "5\n"
     ]
    },
    {
     "data": {
      "text/plain": [
       "array([[8., 9.],\n",
       "       [5., 7.],\n",
       "       [2., 6.],\n",
       "       [1., 0.],\n",
       "       [4., 3.]])"
      ]
     },
     "execution_count": 144,
     "metadata": {},
     "output_type": "execute_result"
    }
   ],
   "source": [
    "newick_parser_1(newick_string_tree_3,distances_3)"
   ]
  }
 ],
 "metadata": {
  "kernelspec": {
   "display_name": "Python 3",
   "language": "python",
   "name": "python3"
  },
  "language_info": {
   "codemirror_mode": {
    "name": "ipython",
    "version": 3
   },
   "file_extension": ".py",
   "mimetype": "text/x-python",
   "name": "python",
   "nbconvert_exporter": "python",
   "pygments_lexer": "ipython3",
   "version": "3.8.5"
  }
 },
 "nbformat": 4,
 "nbformat_minor": 4
}
