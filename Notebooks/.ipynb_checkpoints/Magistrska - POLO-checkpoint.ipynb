{
 "cells": [
  {
   "cell_type": "code",
   "execution_count": 1,
   "metadata": {},
   "outputs": [],
   "source": [
    "from skbio import DistanceMatrix\n",
    "from skbio.tree import nj\n",
    "import numpy as np"
   ]
  },
  {
   "cell_type": "code",
   "execution_count": null,
   "metadata": {},
   "outputs": [],
   "source": [
    "# PROBLEM 1 -- FIND a proper way to represent result from NJ tree in order to be used with POLO \n",
    "# POLO requires linkage matrix. Maybe to rewrite POLO in order to use Newick format?.\n",
    "# PROBLEM 2 -- FIND a way to divide newick formated tree into left and right subtree? It can be done if linkage matrix is obtained?\n",
    "# \n",
    "# \n",
    "# \n",
    "# \n",
    "# "
   ]
  },
  {
   "cell_type": "code",
   "execution_count": 2,
   "metadata": {},
   "outputs": [],
   "source": [
    "# Distance matrix\n",
    "sample_tree_distances = np.array([[0, 5, 9, 9, 8],\n",
    "              [5, 0, 10, 10, 9],\n",
    "              [9, 10, 0, 8, 7],\n",
    "              [9, 10, 8, 0, 3],\n",
    "              [8, 9, 7, 3, 0]])\n",
    "indexes = list('abcde')\n",
    "sample_distance_matrix = DistanceMatrix(sample_tree_distances,indexes)"
   ]
  },
  {
   "cell_type": "code",
   "execution_count": 3,
   "metadata": {},
   "outputs": [],
   "source": [
    "sample_tree = nj(sample_distance_matrix,result_constructor=str)"
   ]
  },
  {
   "cell_type": "code",
   "execution_count": 7,
   "metadata": {},
   "outputs": [
    {
     "name": "stdout",
     "output_type": "stream",
     "text": [
      "(d:2.000000, (c:4.000000, (b:3.000000, a:2.000000):3.000000):2.000000, e:1.000000);\n"
     ]
    }
   ],
   "source": [
    "print(sample_tree)"
   ]
  },
  {
   "cell_type": "code",
   "execution_count": 8,
   "metadata": {},
   "outputs": [],
   "source": [
    "sample_tree_distances_1 = [[0, 15,  9,  9],\n",
    "        [15,  0, 10, 10],\n",
    "        [9, 10,  0,  8],\n",
    "        [9, 10,  8,  0]]\n",
    "indexes_1 = list('abcd')\n",
    "sample_distance_matrix_1 = DistanceMatrix(sample_tree_distances_1,indexes_1)"
   ]
  },
  {
   "cell_type": "code",
   "execution_count": null,
   "metadata": {
    "pycharm": {
     "name": "#%%\n"
    }
   },
   "outputs": [],
   "source": [
    "sample_tree_1 = nj(sample_distance_matrix_1,result_constructor=str)"
   ]
  },
  {
   "cell_type": "code",
   "execution_count": 12,
   "metadata": {},
   "outputs": [
    {
     "name": "stdout",
     "output_type": "stream",
     "text": [
      "(b:7.000000, (c:3.000000, a:6.000000):1.000000, d:3.000000);\n"
     ]
    }
   ],
   "source": [
    "print(sample_tree_1)"
   ]
  },
  {
   "cell_type": "code",
   "execution_count": 2,
   "metadata": {},
   "outputs": [],
   "source": [
    "##########################################################################################################\n",
    "# https://docs.scipy.org/doc/scipy/reference/generated/scipy.cluster.hierarchy.optimal_leaf_ordering.html\n",
    "# Optimal leaf ordering method from scipy is the same as implemented in POLO"
   ]
  },
  {
   "cell_type": "code",
   "execution_count": 25,
   "metadata": {
    "scrolled": true
   },
   "outputs": [],
   "source": [
    "from scipy.cluster import hierarchy\n",
    "from scipy.cluster.hierarchy import dendrogram, linkage\n",
    "import numpy as np\n",
    "np.random.seed(23)\n",
    "X = np.random.randn(10,10)\n",
    "Z = linkage(X, 'ward',optimal_ordering=True)"
   ]
  },
  {
   "cell_type": "code",
   "execution_count": 30,
   "metadata": {},
   "outputs": [
    {
     "data": {
      "text/plain": [
       "array([3, 9, 0, 5, 8, 2, 7, 4, 1, 6], dtype=int32)"
      ]
     },
     "execution_count": 30,
     "metadata": {},
     "output_type": "execute_result"
    }
   ],
   "source": [
    "hierarchy.leaves_list(Z)"
   ]
  },
  {
   "cell_type": "code",
   "execution_count": 24,
   "metadata": {},
   "outputs": [
    {
     "data": {
      "text/plain": [
       "{'icoord': [[5.0, 5.0, 15.0, 15.0],\n",
       "  [25.0, 25.0, 35.0, 35.0],\n",
       "  [10.0, 10.0, 30.0, 30.0],\n",
       "  [85.0, 85.0, 95.0, 95.0],\n",
       "  [75.0, 75.0, 90.0, 90.0],\n",
       "  [65.0, 65.0, 82.5, 82.5],\n",
       "  [55.0, 55.0, 73.75, 73.75],\n",
       "  [45.0, 45.0, 64.375, 64.375],\n",
       "  [20.0, 20.0, 54.6875, 54.6875]],\n",
       " 'dcoord': [[0.0, 2.657627774843363, 2.657627774843363, 0.0],\n",
       "  [0.0, 3.1411243905534, 3.1411243905534, 0.0],\n",
       "  [2.657627774843363, 4.744674487121266, 4.744674487121266, 3.1411243905534],\n",
       "  [0.0, 1.9865208052792276, 1.9865208052792276, 0.0],\n",
       "  [0.0, 2.2194653895944763, 2.2194653895944763, 1.9865208052792276],\n",
       "  [0.0, 3.0649568159447442, 3.0649568159447442, 2.2194653895944763],\n",
       "  [0.0, 3.3086741789947274, 3.3086741789947274, 3.0649568159447442],\n",
       "  [0.0, 5.354782071984729, 5.354782071984729, 3.3086741789947274],\n",
       "  [4.744674487121266,\n",
       "   6.6125622325419435,\n",
       "   6.6125622325419435,\n",
       "   5.354782071984729]],\n",
       " 'ivl': ['0', '5', '3', '9', '6', '8', '1', '4', '2', '7'],\n",
       " 'leaves': [0, 5, 3, 9, 6, 8, 1, 4, 2, 7],\n",
       " 'color_list': ['C1', 'C2', 'C0', 'C3', 'C3', 'C3', 'C3', 'C0', 'C0']}"
      ]
     },
     "execution_count": 24,
     "metadata": {},
     "output_type": "execute_result"
    },
    {
     "data": {
      "image/png": "[encoded data removed]",
      "text/plain": [
       "<Figure size 432x288 with 1 Axes>"
      ]
     },
     "metadata": {
      "needs_background": "light"
     },
     "output_type": "display_data"
    }
   ],
   "source": [
    "dendrogram(Z)"
   ]
  },
  {
   "cell_type": "code",
   "execution_count": 26,
   "metadata": {},
   "outputs": [
    {
     "data": {
      "text/plain": [
       "{'icoord': [[5.0, 5.0, 15.0, 15.0],\n",
       "  [25.0, 25.0, 35.0, 35.0],\n",
       "  [10.0, 10.0, 30.0, 30.0],\n",
       "  [55.0, 55.0, 65.0, 65.0],\n",
       "  [60.0, 60.0, 75.0, 75.0],\n",
       "  [67.5, 67.5, 85.0, 85.0],\n",
       "  [45.0, 45.0, 76.25, 76.25],\n",
       "  [60.625, 60.625, 95.0, 95.0],\n",
       "  [20.0, 20.0, 77.8125, 77.8125]],\n",
       " 'dcoord': [[0.0, 3.1411243905534, 3.1411243905534, 0.0],\n",
       "  [0.0, 2.657627774843363, 2.657627774843363, 0.0],\n",
       "  [3.1411243905534, 4.744674487121266, 4.744674487121266, 2.657627774843363],\n",
       "  [0.0, 1.9865208052792276, 1.9865208052792276, 0.0],\n",
       "  [1.9865208052792276, 2.2194653895944763, 2.2194653895944763, 0.0],\n",
       "  [2.2194653895944763, 3.0649568159447442, 3.0649568159447442, 0.0],\n",
       "  [0.0, 3.3086741789947274, 3.3086741789947274, 3.0649568159447442],\n",
       "  [3.3086741789947274, 5.354782071984729, 5.354782071984729, 0.0],\n",
       "  [4.744674487121266,\n",
       "   6.6125622325419435,\n",
       "   6.6125622325419435,\n",
       "   5.354782071984729]],\n",
       " 'ivl': ['3', '9', '0', '5', '8', '2', '7', '4', '1', '6'],\n",
       " 'leaves': [3, 9, 0, 5, 8, 2, 7, 4, 1, 6],\n",
       " 'color_list': ['C1', 'C2', 'C0', 'C3', 'C3', 'C3', 'C3', 'C0', 'C0']}"
      ]
     },
     "execution_count": 26,
     "metadata": {},
     "output_type": "execute_result"
    },
    {
     "data": {
      "image/png": "[encoded data removed]",
      "text/plain": [
       "<Figure size 432x288 with 1 Axes>"
      ]
     },
     "metadata": {
      "needs_background": "light"
     },
     "output_type": "display_data"
    }
   ],
   "source": [
    "dendrogram(Z)"
   ]
  },
  {
   "cell_type": "code",
   "execution_count": 8,
   "metadata": {},
   "outputs": [
    {
     "data": {
      "text/plain": [
       "array([0, 5, 3, 9, 6, 8, 1, 4, 2, 7], dtype=int32)"
      ]
     },
     "execution_count": 8,
     "metadata": {},
     "output_type": "execute_result"
    }
   ],
   "source": [
    "hierarchy.leaves_list(Z)"
   ]
  },
  {
   "cell_type": "code",
   "execution_count": 9,
   "metadata": {},
   "outputs": [
    {
     "data": {
      "text/plain": [
       "array([3, 9, 0, 5, 8, 2, 7, 4, 1, 6], dtype=int32)"
      ]
     },
     "execution_count": 9,
     "metadata": {},
     "output_type": "execute_result"
    }
   ],
   "source": [
    "hierarchy.leaves_list(hierarchy.optimal_leaf_ordering(Z, X))"
   ]
  },
  {
   "cell_type": "code",
   "execution_count": 28,
   "metadata": {},
   "outputs": [
    {
     "data": {
      "text/plain": [
       "array([[ 2.        ,  7.        ,  1.98652081,  2.        ],\n",
       "       [10.        ,  4.        ,  2.21946539,  3.        ],\n",
       "       [ 0.        ,  5.        ,  2.65762777,  2.        ],\n",
       "       [11.        ,  1.        ,  3.06495682,  4.        ],\n",
       "       [ 3.        ,  9.        ,  3.14112439,  2.        ],\n",
       "       [ 8.        , 13.        ,  3.30867418,  5.        ],\n",
       "       [14.        , 12.        ,  4.74467449,  4.        ],\n",
       "       [15.        ,  6.        ,  5.35478207,  6.        ],\n",
       "       [16.        , 17.        ,  6.61256223, 10.        ]])"
      ]
     },
     "execution_count": 28,
     "metadata": {},
     "output_type": "execute_result"
    }
   ],
   "source": []
  }
 ],
 "metadata": {
  "kernelspec": {
   "display_name": "Python 3",
   "language": "python",
   "name": "python3"
  },
  "language_info": {
   "codemirror_mode": {
    "name": "ipython",
    "version": 3
   },
   "file_extension": ".py",
   "mimetype": "text/x-python",
   "name": "python",
   "nbconvert_exporter": "python",
   "pygments_lexer": "ipython3",
   "version": "3.8.5"
  }
 },
 "nbformat": 4,
 "nbformat_minor": 4
}
