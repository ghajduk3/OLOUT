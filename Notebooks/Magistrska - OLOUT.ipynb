{
 "cells": [
  {
   "cell_type": "markdown",
   "metadata": {},
   "source": [
    "TO-DO:\n",
    "1. Find the most suitable Neighbour Joining output format in order to be converted to linkage matrix.\n",
    "2. Develop the conversion function between let's say Newick format and Linkage matrix\n",
    "3. Run POLO on such a matrix and visualise it."
   ]
  },
  {
   "cell_type": "code",
   "execution_count": 4,
   "metadata": {},
   "outputs": [],
   "source": [
    "import numpy as np\n",
    "from skbio import DistanceMatrix\n",
    "from skbio.tree import nj\n",
    "\n",
    "%matplotlib inline\n",
    "\n",
    "from math import atan2, pi\n",
    "from random import randint\n",
    "\n",
    "import matplotlib.pyplot as plt\n",
    "import numpy as np\n",
    "import pandas as pd\n",
    "from scipy.spatial.distance import pdist, squareform\n",
    "\n",
    "from neighborjoining.neighbor_joining import (run_neighbor_joining, make_rooted,\n",
    "                                              get_points_radial, get_points_circular, get_children)"
   ]
  },
  {
   "cell_type": "markdown",
   "metadata": {},
   "source": [
    "Inferring phylogenetic tree from sample data by using `Neighbour joining` algorithm implemented in \n",
    "1. __[skbio.tree](http://scikit-bio.org/docs/0.2.0/tree.html)__ \n",
    "2. __[Jure's Steblaj implementation](http://eprints.fri.uni-lj.si/3899/1/63140259-JURIJ_%C5%A0TEBLAJ-Metoda_razvr%C5%A1%C4%8Danja_z_zdru%C5%BEevanjem_najbli%C5%BEjih_sosedov_v_programu_Orange-2.pdf)__  "
   ]
  },
  {
   "cell_type": "code",
   "execution_count": 5,
   "metadata": {},
   "outputs": [],
   "source": [
    "# Distance matrix\n",
    "distances = np.array([[0, 5, 9, 9, 8],\n",
    "              [5, 0, 10, 10, 9],\n",
    "              [9, 10, 0, 8, 7],\n",
    "              [9, 10, 8, 0, 3],\n",
    "              [8, 9, 7, 3, 0]])\n",
    "\n",
    "distances_1 = np.array([[0, 5, 4, 7, 6, 8],\n",
    "                       [5, 0, 7,10, 9,11],\n",
    "                        [4, 7, 0, 7, 6, 8],\n",
    "                       [7,10, 7, 0, 5, 9],\n",
    "                       [6, 9, 6, 5, 0, 8 ],\n",
    "                       [8,11, 8, 9, 8, 0]])\n",
    "indexes = list('abcdef')"
   ]
  },
  {
   "cell_type": "markdown",
   "metadata": {},
   "source": [
    "### Skbio.tree NJ implementation"
   ]
  },
  {
   "cell_type": "code",
   "execution_count": 6,
   "metadata": {},
   "outputs": [],
   "source": [
    "distance_matrix = DistanceMatrix(distances_1,indexes)"
   ]
  },
  {
   "cell_type": "code",
   "execution_count": 7,
   "metadata": {},
   "outputs": [
    {
     "data": {
      "text/plain": [
       "'((c:2.000000, (b:4.000000, a:1.000000):1.000000):1.000000, (e:2.000000, d:3.000000):1.000000, f:5.000000);'"
      ]
     },
     "execution_count": 7,
     "metadata": {},
     "output_type": "execute_result"
    }
   ],
   "source": [
    "# Phylogenetic tree represented in Newick format\n",
    "newick_tree = nj(distance_matrix,result_constructor=str)\n",
    "newick_tree"
   ]
  },
  {
   "cell_type": "code",
   "execution_count": 192,
   "metadata": {},
   "outputs": [
    {
     "name": "stdout",
     "output_type": "stream",
     "text": [
      "                    /-c\n",
      "          /--------|\n",
      "         |         |          /-b\n",
      "         |          \\--------|\n",
      "         |                    \\-a\n",
      "---------|\n",
      "         |          /-e\n",
      "         |---------|\n",
      "         |          \\-d\n",
      "         |\n",
      "          \\-f\n"
     ]
    }
   ],
   "source": [
    "newick_tree = nj(distance_matrix)\n",
    "print(newick_tree.ascii_art())"
   ]
  },
  {
   "cell_type": "markdown",
   "metadata": {},
   "source": [
    "### Jure's Steblaj implementation"
   ]
  },
  {
   "cell_type": "code",
   "execution_count": 22,
   "metadata": {},
   "outputs": [],
   "source": [
    "def plot(tree, points, labels=[], classes=None):\n",
    "    for v1 in tree:\n",
    "        for v2 in get_children(tree, v1):\n",
    "            plt.plot((points[v1][0], points[v2][0]), (points[v1][1], points[v2][1]), 'k')\n",
    "            if v2 < len(labels):\n",
    "                delta = points[v2] - points[v1]\n",
    "                angle = atan2(delta[1], delta[0])*180/pi\n",
    "                angle = (angle + 360) % 360\n",
    "                if angle > 90 and angle < 270:\n",
    "                    alignment = \"right\"\n",
    "                else:\n",
    "                    alignment = \"left\"\n",
    "                if angle < 90:\n",
    "                    pass\n",
    "                elif angle < 180:\n",
    "                    pass\n",
    "                elif angle < 270:\n",
    "                    pass\n",
    "                else:\n",
    "                    pass\n",
    "                if angle < 45:\n",
    "                    va = \"center\"\n",
    "                elif angle < 135:\n",
    "                    va = \"bottom\"\n",
    "                elif angle < 225:\n",
    "                    va = \"center\"\n",
    "                elif angle < 315:\n",
    "                    va = \"top\"\n",
    "                else:\n",
    "                    va = \"center\"\n",
    "\n",
    "                if angle > 90 and angle < 270:\n",
    "                    rotation = (angle + 180) % 360\n",
    "                else:\n",
    "                    rotation = angle\n",
    "                plt.text(*points[v2], labels[v2], rotation=rotation,\n",
    "                         va=va, clip_on=True, ha=alignment)\n",
    "\n",
    "    if classes != None:\n",
    "        for c in classes:\n",
    "            plt.plot([points[x][0] for x in c], [points[x][1] for x in c], \".\", ms=3)\n",
    "\n",
    "    # plt.savefig(\"output.svg\")\n",
    "    plt.show()"
   ]
  },
  {
   "cell_type": "code",
   "execution_count": 197,
   "metadata": {},
   "outputs": [],
   "source": [
    "# Unrooted phylogenetic tree inferred from distance matrix\n",
    "unrooted_tree = run_neighbor_joining(distances_1)\n",
    "unrooted_tree\n",
    "\n",
    "# Conversion to rooted phylogenetic tree \n",
    "rooted_tree = make_rooted(unrooted_tree)"
   ]
  },
  {
   "cell_type": "code",
   "execution_count": 198,
   "metadata": {},
   "outputs": [],
   "source": [
    "# Inferring radial points to be plotted\n",
    "radial_points = get_points_radial(rooted_tree)\n",
    "labels = radial_points.keys()"
   ]
  },
  {
   "cell_type": "code",
   "execution_count": 199,
   "metadata": {},
   "outputs": [
    {
     "data": {
      "text/plain": [
       "{1: [[6, 4.0]],\n",
       " 0: [[6, 1.0]],\n",
       " 6: [[1, 4.0], [0, 1.0], [7, 1.0]],\n",
       " 2: [[7, 2.0]],\n",
       " 7: [[6, 1.0], [2, 2.0], [9, 1.0]],\n",
       " 4: [[8, 2.0]],\n",
       " 3: [[8, 3.0]],\n",
       " 8: [[4, 2.0], [3, 3.0], [9, 1.0]],\n",
       " 5: [[9, 5.0]],\n",
       " 9: [[7, 1.0], [5, 5.0], [8, 1.0]]}"
      ]
     },
     "execution_count": 199,
     "metadata": {},
     "output_type": "execute_result"
    }
   ],
   "source": [
    "unrooted_tree"
   ]
  },
  {
   "cell_type": "code",
   "execution_count": 195,
   "metadata": {},
   "outputs": [
    {
     "data": {
      "image/png": "[encoded data removed]",
      "text/plain": [
       "<Figure size 432x288 with 1 Axes>"
      ]
     },
     "metadata": {
      "needs_background": "light"
     },
     "output_type": "display_data"
    }
   ],
   "source": [
    "plot(rooted_tree,radial_points)"
   ]
  },
  {
   "cell_type": "markdown",
   "metadata": {},
   "source": [
    "Newick format:\n",
    "http://marvin.cs.uidaho.edu/Teaching/CS515/newickFormat.html\n",
    "\n",
    "TO-DO\n",
    "1. Since a tree produced in Newick format is a string, make a newick_parser and then make a converter to linkage matrix"
   ]
  },
  {
   "cell_type": "code",
   "execution_count": null,
   "metadata": {},
   "outputs": [],
   "source": [
    "# https://github.com/kgori/newick/blob/master/newick.py"
   ]
  },
  {
   "cell_type": "code",
   "execution_count": 1,
   "metadata": {},
   "outputs": [],
   "source": [
    "# # (d:2.000000, (c:4.000000, (b:3.000000, a:2.000000):3.000000):2.000000, e:1.000000);\n",
    "# def newick_parser_json(newick_tree:str):\n",
    "#     tree = {}\n",
    "#     ancestors = []\n",
    "#     linkage_matrix = []\n",
    "#     pattern = re.compile(r'\\s+')\n",
    "#     newick_tree = re.sub(pattern, '', newick_tree)\n",
    "#     tokens = re.split(r\"\\s*(;|\\(|\\)|\\[|\\]|,|:|=)\\s*\",newick_tree)\n",
    "#     tokens = [token for token in tokens if token != '' or token != ';']\n",
    "#     print(newick_tree)\n",
    "#     for ind,token in enumerate(tokens):\n",
    "#         if token == '(': \n",
    "# #             print(\"Step %d\",ind)\n",
    "# #             New children\n",
    "#             subtree = {}\n",
    "#             tree['children'] = [subtree]\n",
    "# #             print(\"Tree\",tree)\n",
    "#             ancestors.append(tree)\n",
    "#             tree=subtree\n",
    "# #             print('Subtree',subtree)\n",
    "# #             print('Ancestors',ancestors)\n",
    "#             linkage_matrix.append([])\n",
    "            \n",
    "#         elif token == ',':\n",
    "#             x = tokens[ind+1]\n",
    "            \n",
    "# #             print(\"Step %d\",ind)\n",
    "#             subtree = {}\n",
    "# #             New branch\n",
    "#             ancestors[len(ancestors)-1]['children'].append(subtree)\n",
    "# #             print('Tree,',tree)\n",
    "#             tree = subtree\n",
    "#             linkage_matrix.append([])\n",
    "            \n",
    "# #             print('Subtree',subtree)\n",
    "# #             print('Ancestors',ancestors)\n",
    "        \n",
    "#         elif token == ':':\n",
    "#             continue\n",
    "            \n",
    "#         elif token == ')':\n",
    "# #             print(\"Step %d\",ind)\n",
    "#             tree = ancestors.pop()\n",
    "# #             print('Tree,',tree)\n",
    "# #             print('Subtree',subtree)\n",
    "# #             print('Ancestors',ancestors) \n",
    "            \n",
    "#         else:\n",
    "# #             print(\"Step %d\",ind)\n",
    "#             x = tokens[ind-1]\n",
    "            \n",
    "#             if x in (\")\",\"(\",\",\"):\n",
    "#                 tree['name'] = token\n",
    "#                 linkage_matrix[len(linkage_matrix)-1].append(token)\n",
    "#             elif x == ':':\n",
    "#                 tree['branch_length'] = token\n",
    "# #             print('Tree,',tree)\n",
    "# #             print('Subtree',subtree)\n",
    "# #             print('Ancestors',ancestors)\n",
    "\n",
    "#     return tree\n",
    "                \n",
    "    \n",
    "            \n",
    "            \n",
    "\n",
    "        \n",
    "    "
   ]
  },
  {
   "cell_type": "code",
   "execution_count": 165,
   "metadata": {},
   "outputs": [
    {
     "name": "stdout",
     "output_type": "stream",
     "text": [
      "(3:2.0,(2:4.0,(1:3.0,0:2.0)5:3.0)6:2.0,4:1.0);\n"
     ]
    }
   ],
   "source": [
    "tr = newick_parser_json(\"(3:2.0,(2:4.0,(1:3.0,0:2.0)5:3.0)6:2.0,4:1.0);\")"
   ]
  },
  {
   "cell_type": "code",
   "execution_count": 152,
   "metadata": {},
   "outputs": [
    {
     "data": {
      "text/plain": [
       "{'children': [{'name': '3', 'branch_length': '2.0'},\n",
       "  {'name': '6',\n",
       "   'children': [{'name': '2', 'branch_length': '4.0'},\n",
       "    {'name': '5',\n",
       "     'children': [{'name': '1', 'branch_length': '3.0'},\n",
       "      {'name': '0', 'branch_length': '2.0'}],\n",
       "     'branch_length': '3.0'}],\n",
       "   'branch_length': '2.0'},\n",
       "  {'name': '4', 'branch_length': '1.0'}],\n",
       " 'name': ''}"
      ]
     },
     "execution_count": 152,
     "metadata": {},
     "output_type": "execute_result"
    }
   ],
   "source": [
    "tr"
   ]
  },
  {
   "cell_type": "code",
   "execution_count": 40,
   "metadata": {},
   "outputs": [],
   "source": [
    "import re\n",
    "def newick_parser(newick_tree:str):\n",
    "    linkage_matrix = []\n",
    "    pattern = re.compile(r'\\s+')\n",
    "    newick_tree = re.sub(pattern, '', newick_tree)\n",
    "    tokens = re.split(r\"\\s*(;|\\(|\\)|\\[|\\]|,|:|=)\\s*\",newick_tree)\n",
    "    tokens = [token for token in tokens if token != '' and token != ';']\n",
    "    count = 1\n",
    "    for ind,token in enumerate(tokens):\n",
    "        if token == \"(\" :\n",
    "            linkage_matrix.append([])\n",
    "        elif token ==',' and tokens[ind+1] == '(':\n",
    "            continue\n",
    "#             linkage_matrix.append([])\n",
    "        elif token == ')':\n",
    "            continue\n",
    "        elif token == ':':\n",
    "            continue\n",
    "        else:\n",
    "            x = tokens[ind-1]\n",
    "            if x in (\"(\",\",\"):\n",
    "#                 print(linkage_matrix)\n",
    "#                 print(x,token,len(linkage_matrix))\n",
    "                linkage_matrix[len(linkage_matrix)-1].append(token)\n",
    "            elif x == ')':\n",
    "                count+=1\n",
    "                linkage_matrix[len(linkage_matrix)-count].append(token)                \n",
    "    return linkage_matrix\n",
    "            \n",
    "            "
   ]
  },
  {
   "cell_type": "code",
   "execution_count": 38,
   "metadata": {},
   "outputs": [
    {
     "data": {
      "text/plain": [
       "[['7', '8'], ['2', '6'], ['1', '0'], ['4', '3', '5', '9']]"
      ]
     },
     "execution_count": 38,
     "metadata": {},
     "output_type": "execute_result"
    }
   ],
   "source": [
    "newick_parser('((2:2.000000, (1:4.000000, 0:1.000000)6:1.000000)7:1.000000, (4:2.000000, 3:3.000000)8:1.000000, 5:5.000000)9')"
   ]
  },
  {
   "cell_type": "code",
   "execution_count": 42,
   "metadata": {},
   "outputs": [
    {
     "data": {
      "text/plain": [
       "[['3', '6'], ['2', '5'], ['1', '0', '4', '7']]"
      ]
     },
     "execution_count": 42,
     "metadata": {},
     "output_type": "execute_result"
    }
   ],
   "source": [
    "newick_parser('(3:2.000000,(2:4.000000, (1:3.000000, 0:2.000000)5:3.000000)6:2.000000, 4:1.000000)7')"
   ]
  },
  {
   "cell_type": "markdown",
   "metadata": {},
   "source": [
    "#### TO DO 04.02.2021\n",
    "1. Check if POLO can be generalized to accept non binary nodes\n",
    "2. Maybe we can impute dummy nodes with distance = 0 in order to make it work \n",
    "\n",
    "Prof:\n",
    " 1. Try to make POLO work, \n",
    " 2. Read and check https://journals.plos.org/ploscompbiol/article?id=10.1371/journal.pcbi.1007347\n",
    " 3. "
   ]
  }
 ],
 "metadata": {
  "kernelspec": {
   "display_name": "Python 3",
   "language": "python",
   "name": "python3"
  },
  "language_info": {
   "codemirror_mode": {
    "name": "ipython",
    "version": 3
   },
   "file_extension": ".py",
   "mimetype": "text/x-python",
   "name": "python",
   "nbconvert_exporter": "python",
   "pygments_lexer": "ipython3",
   "version": "3.8.5"
  }
 },
 "nbformat": 4,
 "nbformat_minor": 4
}
