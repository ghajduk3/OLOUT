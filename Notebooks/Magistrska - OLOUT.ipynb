{
 "cells": [
  {
   "cell_type": "markdown",
   "metadata": {},
   "source": [
    "TO-DO:\n",
    "1. Find the most suitable Neighbour Joining output format in order to be converted to linkage matrix.\n",
    "2. Develop the conversion function between let's say Newick format and Linkage matrix\n",
    "3. Run POLO on such a matrix and visualise it."
   ]
  },
  {
   "cell_type": "code",
   "execution_count": 240,
   "metadata": {},
   "outputs": [],
   "source": [
    "import numpy as np\n",
    "from skbio import DistanceMatrix\n",
    "from skbio.tree import nj\n",
    "\n",
    "%matplotlib inline\n",
    "\n",
    "from math import atan2, pi\n",
    "from random import randint\n",
    "\n",
    "import matplotlib.pyplot as plt\n",
    "import numpy as np\n",
    "import pandas as pd\n",
    "from scipy.spatial.distance import pdist, squareform\n",
    "\n",
    "from neighborjoining.neighbor_joining import (run_neighbor_joining, make_rooted,\n",
    "                                              get_points_radial, get_points_circular, get_children)"
   ]
  },
  {
   "cell_type": "markdown",
   "metadata": {},
   "source": [
    "Inferring phylogenetic tree from sample data by using `Neighbour joining` algorithm implemented in \n",
    "1. __[skbio.tree](http://scikit-bio.org/docs/0.2.0/tree.html)__ \n",
    "2. __[Jure's Steblaj implementation](http://eprints.fri.uni-lj.si/3899/1/63140259-JURIJ_%C5%A0TEBLAJ-Metoda_razvr%C5%A1%C4%8Danja_z_zdru%C5%BEevanjem_najbli%C5%BEjih_sosedov_v_programu_Orange-2.pdf)__  "
   ]
  },
  {
   "cell_type": "code",
   "execution_count": 213,
   "metadata": {},
   "outputs": [],
   "source": [
    "# Distance matrix\n",
    "                        0, 1, 2, 3, 4     \n",
    "distances = np.array([0[0, 5, 9, 9, 8],\n",
    "                      1[5, 0, 10, 10, 9],\n",
    "                      2[9, 10, 0, 8, 7],\n",
    "                      3[9, 10, 8, 0, 3],\n",
    "                      4[8, 9, 7, 3, 0]])\n",
    "\n",
    "distances_1 = np.array([[0, 5, 4, 7, 6, 8],\n",
    "                       [5, 0, 7,10, 9,11],\n",
    "                        [4, 7, 0, 7, 6, 8],\n",
    "                       [7,10, 7, 0, 5, 9],\n",
    "                       [6, 9, 6, 5, 0, 8 ],\n",
    "                       [8,11, 8, 9, 8, 0]])\n",
    "indexes = list('abcde')"
   ]
  },
  {
   "cell_type": "markdown",
   "metadata": {},
   "source": [
    "### Skbio.tree NJ implementation"
   ]
  },
  {
   "cell_type": "code",
   "execution_count": 214,
   "metadata": {},
   "outputs": [],
   "source": [
    "distance_matrix = DistanceMatrix(distances,indexes)"
   ]
  },
  {
   "cell_type": "code",
   "execution_count": 215,
   "metadata": {},
   "outputs": [
    {
     "data": {
      "text/plain": [
       "'(d:2.000000, (c:4.000000, (b:3.000000, a:2.000000):3.000000):2.000000, e:1.000000);'"
      ]
     },
     "execution_count": 215,
     "metadata": {},
     "output_type": "execute_result"
    }
   ],
   "source": [
    "# Phylogenetic tree represented in Newick format\n",
    "newick_tree = nj(distance_matrix,result_constructor=str)\n",
    "newick_tree"
   ]
  },
  {
   "cell_type": "code",
   "execution_count": 192,
   "metadata": {},
   "outputs": [
    {
     "name": "stdout",
     "output_type": "stream",
     "text": [
      "                    /-c\n",
      "          /--------|\n",
      "         |         |          /-b\n",
      "         |          \\--------|\n",
      "         |                    \\-a\n",
      "---------|\n",
      "         |          /-e\n",
      "         |---------|\n",
      "         |          \\-d\n",
      "         |\n",
      "          \\-f\n"
     ]
    }
   ],
   "source": [
    "newick_tree = nj(distance_matrix)\n",
    "print(newick_tree.ascii_art())"
   ]
  },
  {
   "cell_type": "markdown",
   "metadata": {},
   "source": [
    "### Jure's Steblaj implementation"
   ]
  },
  {
   "cell_type": "code",
   "execution_count": 241,
   "metadata": {},
   "outputs": [],
   "source": [
    "def plot(tree, points, labels=[], classes=None):\n",
    "    for v1 in tree:\n",
    "        for v2 in get_children(tree, v1):\n",
    "            plt.plot((points[v1][0], points[v2][0]), (points[v1][1], points[v2][1]), 'k')\n",
    "            if v2 < len(labels):\n",
    "                delta = points[v2] - points[v1]\n",
    "                angle = atan2(delta[1], delta[0])*180/pi\n",
    "                angle = (angle + 360) % 360\n",
    "                if angle > 90 and angle < 270:\n",
    "                    alignment = \"right\"\n",
    "                else:\n",
    "                    alignment = \"left\"\n",
    "                if angle < 90:\n",
    "                    pass\n",
    "                elif angle < 180:\n",
    "                    pass\n",
    "                elif angle < 270:\n",
    "                    pass\n",
    "                else:\n",
    "                    pass\n",
    "                if angle < 45:\n",
    "                    va = \"center\"\n",
    "                elif angle < 135:\n",
    "                    va = \"bottom\"\n",
    "                elif angle < 225:\n",
    "                    va = \"center\"\n",
    "                elif angle < 315:\n",
    "                    va = \"top\"\n",
    "                else:\n",
    "                    va = \"center\"\n",
    "\n",
    "                if angle > 90 and angle < 270:\n",
    "                    rotation = (angle + 180) % 360\n",
    "                else:\n",
    "                    rotation = angle\n",
    "                plt.text(*points[v2], labels[v2], rotation=rotation,\n",
    "                         va=va, clip_on=True, ha=alignment)\n",
    "\n",
    "    if classes != None:\n",
    "        for c in classes:\n",
    "            plt.plot([points[x][0] for x in c], [points[x][1] for x in c], \".\", ms=3)\n",
    "\n",
    "    # plt.savefig(\"output.svg\")\n",
    "    plt.show()"
   ]
  },
  {
   "cell_type": "code",
   "execution_count": 236,
   "metadata": {},
   "outputs": [],
   "source": [
    "# Unrooted phylogenetic tree inferred from distance matrix\n",
    "unrooted_tree = run_neighbor_joining(distances)\n",
    "unrooted_tree\n",
    "\n",
    "# Conversion to rooted phylogenetic tree \n",
    "rooted_tree = make_rooted(unrooted_tree)"
   ]
  },
  {
   "cell_type": "code",
   "execution_count": 237,
   "metadata": {},
   "outputs": [],
   "source": [
    "# Inferring radial points to be plotted\n",
    "radial_points = get_points_radial(rooted_tree)\n",
    "labels = radial_points.keys()"
   ]
  },
  {
   "cell_type": "code",
   "execution_count": 238,
   "metadata": {},
   "outputs": [
    {
     "data": {
      "text/plain": [
       "{1: [[5, 3.0]],\n",
       " 0: [[5, 2.0]],\n",
       " 5: [[1, 3.0], [0, 2.0], [6, 3.0]],\n",
       " 2: [[6, 4.0]],\n",
       " 6: [[5, 3.0], [2, 4.0], [7, 2.0]],\n",
       " 4: [[7, 1.0]],\n",
       " 3: [[7, 2.0]],\n",
       " 7: [[4, 1.0], [3, 2.0], [6, 2.0]]}"
      ]
     },
     "execution_count": 238,
     "metadata": {},
     "output_type": "execute_result"
    }
   ],
   "source": [
    "unrooted_tree"
   ]
  },
  {
   "cell_type": "code",
   "execution_count": 242,
   "metadata": {},
   "outputs": [
    {
     "data": {
      "image/png": "[encoded data removed]",
      "text/plain": [
       "<Figure size 432x288 with 1 Axes>"
      ]
     },
     "metadata": {
      "needs_background": "light"
     },
     "output_type": "display_data"
    }
   ],
   "source": [
    "plot(rooted_tree,radial_points)"
   ]
  },
  {
   "cell_type": "markdown",
   "metadata": {},
   "source": [
    "Newick format:\n",
    "http://marvin.cs.uidaho.edu/Teaching/CS515/newickFormat.html\n",
    "\n",
    "TO-DO\n",
    "1. Since a tree produced in Newick format is a string, make a newick_parser and then make a converter to linkage matrix"
   ]
  },
  {
   "cell_type": "code",
   "execution_count": null,
   "metadata": {},
   "outputs": [],
   "source": [
    "# https://github.com/kgori/newick/blob/master/newick.py"
   ]
  },
  {
   "cell_type": "code",
   "execution_count": 357,
   "metadata": {},
   "outputs": [],
   "source": [
    "import re\n",
    "import numpy as np\n",
    "def newick_parser(newick_tree:str):\n",
    "    linkage_matrix = []\n",
    "    pattern = re.compile(r'\\s+')\n",
    "    newick_tree = re.sub(pattern, '', newick_tree)\n",
    "    tokens = re.split(r\"\\s*(;|\\(|\\)|\\[|\\]|,|:|=)\\s*\",newick_tree)\n",
    "    tokens = [token for token in tokens if token != '' and token != ';']\n",
    "    count = 1\n",
    "    for ind,token in enumerate(tokens):\n",
    "        if token == \"(\" :\n",
    "            linkage_matrix.append([])\n",
    "        elif token ==',' and tokens[ind+1] == '(':\n",
    "            continue\n",
    "        elif token == ')':\n",
    "            continue\n",
    "        elif token == ':':\n",
    "            continue\n",
    "        else:\n",
    "            x = tokens[ind-1]\n",
    "            \n",
    "            if x in (\"(\",\",\"):\n",
    "                token = float(token)\n",
    "                last_link = linkage_matrix[len(linkage_matrix)-1]                \n",
    "                linkage_matrix.insert(0,[token]) if len(last_link) >=2  else linkage_matrix[len(linkage_matrix)-1].append(token)\n",
    "            elif x == ')':\n",
    "                token = float(token)\n",
    "                count+=1\n",
    "                last_link = linkage_matrix[len(linkage_matrix)-count]\n",
    "                linkage_matrix.append([token]) if len(last_link) >=2 else linkage_matrix[len(linkage_matrix)-count].append(token)                \n",
    "    return np.flip(np.array(linkage_matrix))\n",
    "            \n",
    "            "
   ]
  },
  {
   "cell_type": "code",
   "execution_count": 358,
   "metadata": {},
   "outputs": [],
   "source": [
    "def produce_linkage_matrix(newick_tree,distance_matrix):\n",
    "    partial_linkage_matrix = newick_parser(newick_tree)\n",
    "    dist_obs = np.array([[50 * (i),i+1] for i in range(len(partial_linkage_matrix))])\n",
    "    return np.hstack((partial_linkage_matrix,dist_obs)).astype(float)\n",
    "    "
   ]
  },
  {
   "cell_type": "markdown",
   "metadata": {},
   "source": [
    "#### TO DO 04.02.2021\n",
    "1. Check if POLO can be generalized to accept non binary nodes\n",
    "2. Maybe we can impute dummy nodes with distance = 0 in order to make it work \n",
    "\n",
    "Prof:\n",
    " 1. Try to make POLO work, \n",
    " 2. Read and check https://journals.plos.org/ploscompbiol/article?id=10.1371/journal.pcbi.1007347\n",
    " 3. "
   ]
  },
  {
   "cell_type": "markdown",
   "metadata": {},
   "source": [
    "### 08.02.2021\n",
    "1. Scipy dendogram representation, try to make linkage matrix from newick format"
   ]
  },
  {
   "cell_type": "markdown",
   "metadata": {},
   "source": [
    "### Examples "
   ]
  },
  {
   "cell_type": "markdown",
   "metadata": {},
   "source": [
    "Example 1"
   ]
  },
  {
   "cell_type": "code",
   "execution_count": 196,
   "metadata": {},
   "outputs": [],
   "source": [
    "from scipy.cluster import hierarchy\n",
    "import matplotlib.pyplot as plt\n",
    "from scipy.cluster.hierarchy import ClusterWarning\n",
    "from warnings import simplefilter\n",
    "simplefilter(\"ignore\", ClusterWarning)"
   ]
  },
  {
   "cell_type": "code",
   "execution_count": 359,
   "metadata": {},
   "outputs": [
    {
     "data": {
      "text/plain": [
       "array([[3., 4.],\n",
       "       [0., 1.],\n",
       "       [6., 2.],\n",
       "       [8., 7.],\n",
       "       [9., 5.]])"
      ]
     },
     "execution_count": 359,
     "metadata": {},
     "output_type": "execute_result"
    }
   ],
   "source": [
    "newick_string_tree_1 = '((2:2.000000,(1:4.000000, 0:1.000000)6:1.000000)7:1.000000, (4:2.000000, 3:3.000000)8:1.000000,5:5.00000)9'\n",
    "newick_parser(newick_string_tree_1)\n",
    "# link_matrix_1 = produce_linkage_matrix(newick_string_tree_1,distances_1)"
   ]
  },
  {
   "cell_type": "code",
   "execution_count": 195,
   "metadata": {},
   "outputs": [
    {
     "data": {
      "text/plain": [
       "array([[  3.,   4.,   0.,   0.],\n",
       "       [  0.,   1.,  50.,   1.],\n",
       "       [  6.,   2., 100.,   2.],\n",
       "       [  8.,   7., 150.,   3.],\n",
       "       [  9.,   5., 200.,   4.]])"
      ]
     },
     "execution_count": 195,
     "metadata": {},
     "output_type": "execute_result"
    }
   ],
   "source": [
    "# Linkage matrix, ready to be used in POLO\n",
    "link_matrix_1"
   ]
  },
  {
   "cell_type": "code",
   "execution_count": 200,
   "metadata": {},
   "outputs": [
    {
     "data": {
      "text/plain": [
       "array([3, 4, 2, 0, 1, 5], dtype=int32)"
      ]
     },
     "execution_count": 200,
     "metadata": {},
     "output_type": "execute_result"
    }
   ],
   "source": [
    "# Prints the unordered leaves list of the phylogenetic tree\n",
    "hierarchy.leaves_list(link_matrix_1)"
   ]
  },
  {
   "cell_type": "code",
   "execution_count": 207,
   "metadata": {},
   "outputs": [
    {
     "data": {
      "text/plain": [
       "{'icoord': [[5.0, 5.0, 15.0, 15.0],\n",
       "  [10.0, 10.0, 25.0, 25.0],\n",
       "  [35.0, 35.0, 45.0, 45.0],\n",
       "  [17.5, 17.5, 40.0, 40.0],\n",
       "  [28.75, 28.75, 55.0, 55.0]],\n",
       " 'dcoord': [[0.0, 0.0, 0.0, 0.0],\n",
       "  [0.0, 100.0, 100.0, 0.0],\n",
       "  [0.0, 50.0, 50.0, 0.0],\n",
       "  [100.0, 150.0, 150.0, 50.0],\n",
       "  [150.0, 200.0, 200.0, 0.0]],\n",
       " 'ivl': ['3', '4', '2', '0', '1', '5'],\n",
       " 'leaves': [3, 4, 2, 0, 1, 5],\n",
       " 'color_list': ['C1', 'C1', 'C2', 'C0', 'C0']}"
      ]
     },
     "execution_count": 207,
     "metadata": {},
     "output_type": "execute_result"
    },
    {
     "data": {
      "image/png": "[encoded data removed]",
      "text/plain": [
       "<Figure size 432x288 with 1 Axes>"
      ]
     },
     "metadata": {
      "needs_background": "light"
     },
     "output_type": "display_data"
    }
   ],
   "source": [
    "# Plots the dendogram based on the unordered leaves list\n",
    "hierarchy.dendrogram(link_matrix_1)"
   ]
  },
  {
   "cell_type": "code",
   "execution_count": 204,
   "metadata": {},
   "outputs": [
    {
     "data": {
      "text/plain": [
       "array([1, 0, 2, 4, 3, 5], dtype=int32)"
      ]
     },
     "execution_count": 204,
     "metadata": {},
     "output_type": "execute_result"
    }
   ],
   "source": [
    "# Performing POLO on the same same linkage matrix \n",
    "optimal_ordering = hierarchy.leaves_list(hierarchy.optimal_leaf_ordering(link_matrix_1,distances_1))\n",
    "optimal_ordering"
   ]
  },
  {
   "cell_type": "markdown",
   "metadata": {},
   "source": [
    "#### Example 2 \n"
   ]
  },
  {
   "cell_type": "code",
   "execution_count": 361,
   "metadata": {},
   "outputs": [
    {
     "data": {
      "text/plain": [
       "array([[0., 1.],\n",
       "       [5., 2.],\n",
       "       [6., 3.],\n",
       "       [7., 4.]])"
      ]
     },
     "execution_count": 361,
     "metadata": {},
     "output_type": "execute_result"
    }
   ],
   "source": [
    "newick_string_tree_2 = '(3:2.000000, (2:4.000000, (1:3.000000, 0:2.000000)5:3.000000)6:2.000000, 4:1.000000)7'\n",
    "# link_matrix_2 = produce_linkage_matrix(newick_string_tree_2,np.array(distances))\n",
    "newick_parser(newick_string_tree_2)"
   ]
  },
  {
   "cell_type": "code",
   "execution_count": 231,
   "metadata": {},
   "outputs": [
    {
     "data": {
      "text/plain": [
       "array([[  0.,   1.,   0.,   1.],\n",
       "       [  5.,   2.,  50.,   2.],\n",
       "       [  6.,   3., 100.,   3.],\n",
       "       [  7.,   4., 150.,   4.]])"
      ]
     },
     "execution_count": 231,
     "metadata": {},
     "output_type": "execute_result"
    }
   ],
   "source": [
    "link_matrix_2"
   ]
  },
  {
   "cell_type": "code",
   "execution_count": 247,
   "metadata": {},
   "outputs": [
    {
     "data": {
      "text/plain": [
       "array([0, 1, 2, 3, 4], dtype=int32)"
      ]
     },
     "execution_count": 247,
     "metadata": {},
     "output_type": "execute_result"
    }
   ],
   "source": [
    "# Unordered leaves list\n",
    "initial_ordering = hierarchy.leaves_list(link_matrix_2)\n",
    "initial_ordering"
   ]
  },
  {
   "cell_type": "code",
   "execution_count": 234,
   "metadata": {},
   "outputs": [
    {
     "data": {
      "text/plain": [
       "{'icoord': [[5.0, 5.0, 15.0, 15.0],\n",
       "  [10.0, 10.0, 25.0, 25.0],\n",
       "  [17.5, 17.5, 35.0, 35.0],\n",
       "  [26.25, 26.25, 45.0, 45.0]],\n",
       " 'dcoord': [[0.0, 0.0, 0.0, 0.0],\n",
       "  [0.0, 50.0, 50.0, 0.0],\n",
       "  [50.0, 100.0, 100.0, 0.0],\n",
       "  [100.0, 150.0, 150.0, 0.0]],\n",
       " 'ivl': ['0', '1', '2', '3', '4'],\n",
       " 'leaves': [0, 1, 2, 3, 4],\n",
       " 'color_list': ['C1', 'C1', 'C1', 'C0']}"
      ]
     },
     "execution_count": 234,
     "metadata": {},
     "output_type": "execute_result"
    },
    {
     "data": {
      "image/png": "[encoded data removed]",
      "text/plain": [
       "<Figure size 432x288 with 1 Axes>"
      ]
     },
     "metadata": {
      "needs_background": "light"
     },
     "output_type": "display_data"
    }
   ],
   "source": [
    "# Dendrogram on unordered tree\n",
    "hierarchy.dendrogram(link_matrix_2)"
   ]
  },
  {
   "cell_type": "code",
   "execution_count": 248,
   "metadata": {},
   "outputs": [
    {
     "data": {
      "text/plain": [
       "array([1, 0, 2, 3, 4], dtype=int32)"
      ]
     },
     "execution_count": 248,
     "metadata": {},
     "output_type": "execute_result"
    }
   ],
   "source": [
    "# Polo \n",
    "optimal_ordering = hierarchy.leaves_list(hierarchy.optimal_leaf_ordering(link_matrix_2,distances))\n",
    "optimal_ordering"
   ]
  },
  {
   "cell_type": "markdown",
   "metadata": {},
   "source": [
    "##### In the initial ordering of [0,1,2,3,4] the function cost is 3+8+10+5 = 26, while the cost for the optimal one is equal to 25"
   ]
  },
  {
   "cell_type": "markdown",
   "metadata": {},
   "source": [
    "#### TO-DO:\n",
    "1. Make a function that is calculate the ordering cost \n",
    "2. Make a function that is going to do a brute force ordering in order to check the polo as well as the linkage matrix"
   ]
  },
  {
   "cell_type": "code",
   "execution_count": 264,
   "metadata": {},
   "outputs": [],
   "source": [
    "import itertools"
   ]
  },
  {
   "cell_type": "code",
   "execution_count": 263,
   "metadata": {},
   "outputs": [],
   "source": [
    "def calculate_ordering_cost(ordering,distance):\n",
    "    return sum([distance[ordering[i]][ordering[i+1]] for i in range(len(ordering)-1)])"
   ]
  },
  {
   "cell_type": "code",
   "execution_count": 280,
   "metadata": {},
   "outputs": [],
   "source": [
    "def brute_force_optimal_ordering(linkage_matrix, distance_matrix):\n",
    "    leaves = hierarchy.leaves_list(linkage_matrix)\n",
    "    orderings = min([(perm,calculate_ordering_cost(perm,distance_matrix)) for perm in itertools.permutations(leaves)],key=lambda x :x[1])\n",
    "    return orderings"
   ]
  },
  {
   "cell_type": "code",
   "execution_count": 281,
   "metadata": {},
   "outputs": [
    {
     "data": {
      "text/plain": [
       "((1, 0, 2, 4, 3), 24)"
      ]
     },
     "execution_count": 281,
     "metadata": {},
     "output_type": "execute_result"
    }
   ],
   "source": [
    "brute_force_optimal_ordering(link_matrix_2,distances)\n"
   ]
  },
  {
   "cell_type": "code",
   "execution_count": null,
   "metadata": {},
   "outputs": [],
   "source": []
  },
  {
   "cell_type": "code",
   "execution_count": null,
   "metadata": {},
   "outputs": [],
   "source": []
  },
  {
   "cell_type": "code",
   "execution_count": null,
   "metadata": {},
   "outputs": [],
   "source": []
  },
  {
   "cell_type": "code",
   "execution_count": 371,
   "metadata": {},
   "outputs": [],
   "source": [
    "import re\n",
    "import numpy as np\n",
    "def newick_parser_1(newick_tree:str):\n",
    "    linkage_matrix = []\n",
    "    pattern = re.compile(r'\\s+')\n",
    "    newick_tree = re.sub(pattern, '', newick_tree)\n",
    "    tokens = re.split(r\"\\s*(;|\\(|\\)|\\[|\\]|,|:|=)\\s*\",newick_tree)\n",
    "    tokens = [token for token in tokens if token != '' and token != ';']\n",
    "    count = 1\n",
    "    for ind,token in enumerate(tokens):\n",
    "        if token == \"(\" :\n",
    "            linkage_matrix.append([])\n",
    "        elif token ==',' and tokens[ind+1] == '(':\n",
    "            continue\n",
    "        elif token == ')':\n",
    "            continue\n",
    "        elif token == ':':\n",
    "            continue\n",
    "        else:\n",
    "            x = tokens[ind-1]\n",
    "            \n",
    "            if x in (\"(\",\",\"):\n",
    "                token = float(token)\n",
    "                last_link = linkage_matrix[len(linkage_matrix)-1]                \n",
    "                linkage_matrix.insert(0,[token]) if len(last_link) >=2  else linkage_matrix[len(linkage_matrix)-1].append(token)\n",
    "            elif x == ')':\n",
    "                token = float(token)\n",
    "                count+=1\n",
    "                last_link = linkage_matrix[len(linkage_matrix)-count]\n",
    "                print(linkage_matrix,len(linkage_matrix),token,last_link,count)\n",
    "                if len(last_link) >=2:\n",
    "#                     count+=1\n",
    "#                     linkage_matrix.append([token])\n",
    "                    linkage_matrix = [[token]] + linkage_matrix \n",
    "                else:\n",
    "                    linkage_matrix[len(linkage_matrix)-count].append(token) \n",
    "                    count-=1\n",
    "                \n",
    "    print(linkage_matrix)\n",
    "    return np.flip(np.array(linkage_matrix))\n",
    "            \n",
    "            "
   ]
  },
  {
   "cell_type": "code",
   "execution_count": 372,
   "metadata": {},
   "outputs": [
    {
     "name": "stdout",
     "output_type": "stream",
     "text": [
      "[[3.0, 4.0], [2.0], [1.0, 0.0]] 3 5.0 [2.0] 2\n",
      "[[3.0, 4.0], [2.0, 5.0], [1.0, 0.0]] 3 6.0 [2.0, 5.0] 2\n",
      "[[6.0], [3.0, 4.0], [2.0, 5.0], [1.0, 0.0]] 4 7.0 [3.0, 4.0] 3\n",
      "[[7.0], [6.0], [3.0, 4.0], [2.0, 5.0], [1.0, 0.0]]\n"
     ]
    },
    {
     "name": "stderr",
     "output_type": "stream",
     "text": [
      "<ipython-input-371-ad331bb00122>:40: VisibleDeprecationWarning: Creating an ndarray from ragged nested sequences (which is a list-or-tuple of lists-or-tuples-or ndarrays with different lengths or shapes) is deprecated. If you meant to do this, you must specify 'dtype=object' when creating the ndarray\n",
      "  return np.flip(np.array(linkage_matrix))\n"
     ]
    },
    {
     "data": {
      "text/plain": [
       "array([list([1.0, 0.0]), list([2.0, 5.0]), list([3.0, 4.0]), list([6.0]),\n",
       "       list([7.0])], dtype=object)"
      ]
     },
     "execution_count": 372,
     "metadata": {},
     "output_type": "execute_result"
    }
   ],
   "source": [
    "newick_string_tree_5 = '(3:2.000000,4:1.000000,(2:4.000000, (1:3.000000, 0:2.000000)5:3.000000)6:2.000000)7'\n",
    "newick_parser_1(newick_string_tree_5)"
   ]
  },
  {
   "cell_type": "code",
   "execution_count": null,
   "metadata": {},
   "outputs": [],
   "source": []
  }
 ],
 "metadata": {
  "kernelspec": {
   "display_name": "Python 3",
   "language": "python",
   "name": "python3"
  },
  "language_info": {
   "codemirror_mode": {
    "name": "ipython",
    "version": 3
   },
   "file_extension": ".py",
   "mimetype": "text/x-python",
   "name": "python",
   "nbconvert_exporter": "python",
   "pygments_lexer": "ipython3",
   "version": "3.8.5"
  }
 },
 "nbformat": 4,
 "nbformat_minor": 4
}
